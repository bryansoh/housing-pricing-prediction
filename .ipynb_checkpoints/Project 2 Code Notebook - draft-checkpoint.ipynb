{
 "cells": [
  {
   "cell_type": "code",
   "execution_count": 66,
   "id": "f465dced",
   "metadata": {},
   "outputs": [],
   "source": [
    "import pandas as pd\n",
    "import numpy as np\n",
    "import scipy as sp\n",
    "import matplotlib.pyplot as plt\n",
    "import seaborn as sns\n",
    "from sklearn.linear_model import Ridge, Lasso, ElasticNet, LinearRegression, RidgeCV, LassoCV, ElasticNetCV\n",
    "from sklearn.neighbors import KNeighborsClassifier\n",
    "from sklearn.model_selection import train_test_split, cross_val_score\n",
    "from sklearn.preprocessing import StandardScaler"
   ]
  },
  {
   "cell_type": "code",
   "execution_count": 67,
   "id": "7205ceea",
   "metadata": {},
   "outputs": [
    {
     "name": "stdout",
     "output_type": "stream",
     "text": [
      "(2051, 81)\n",
      "(878, 80)\n"
     ]
    },
    {
     "data": {
      "text/html": [
       "<div>\n",
       "<style scoped>\n",
       "    .dataframe tbody tr th:only-of-type {\n",
       "        vertical-align: middle;\n",
       "    }\n",
       "\n",
       "    .dataframe tbody tr th {\n",
       "        vertical-align: top;\n",
       "    }\n",
       "\n",
       "    .dataframe thead th {\n",
       "        text-align: right;\n",
       "    }\n",
       "</style>\n",
       "<table border=\"1\" class=\"dataframe\">\n",
       "  <thead>\n",
       "    <tr style=\"text-align: right;\">\n",
       "      <th></th>\n",
       "      <th>Id</th>\n",
       "      <th>PID</th>\n",
       "      <th>MS SubClass</th>\n",
       "      <th>MS Zoning</th>\n",
       "      <th>Lot Frontage</th>\n",
       "      <th>Lot Area</th>\n",
       "      <th>Street</th>\n",
       "      <th>Alley</th>\n",
       "      <th>Lot Shape</th>\n",
       "      <th>Land Contour</th>\n",
       "      <th>...</th>\n",
       "      <th>Screen Porch</th>\n",
       "      <th>Pool Area</th>\n",
       "      <th>Pool QC</th>\n",
       "      <th>Fence</th>\n",
       "      <th>Misc Feature</th>\n",
       "      <th>Misc Val</th>\n",
       "      <th>Mo Sold</th>\n",
       "      <th>Yr Sold</th>\n",
       "      <th>Sale Type</th>\n",
       "      <th>SalePrice</th>\n",
       "    </tr>\n",
       "  </thead>\n",
       "  <tbody>\n",
       "    <tr>\n",
       "      <th>0</th>\n",
       "      <td>109</td>\n",
       "      <td>533352170</td>\n",
       "      <td>60</td>\n",
       "      <td>RL</td>\n",
       "      <td>NaN</td>\n",
       "      <td>13517</td>\n",
       "      <td>Pave</td>\n",
       "      <td>NaN</td>\n",
       "      <td>IR1</td>\n",
       "      <td>Lvl</td>\n",
       "      <td>...</td>\n",
       "      <td>0</td>\n",
       "      <td>0</td>\n",
       "      <td>NaN</td>\n",
       "      <td>NaN</td>\n",
       "      <td>NaN</td>\n",
       "      <td>0</td>\n",
       "      <td>3</td>\n",
       "      <td>2010</td>\n",
       "      <td>WD</td>\n",
       "      <td>130500</td>\n",
       "    </tr>\n",
       "    <tr>\n",
       "      <th>1</th>\n",
       "      <td>544</td>\n",
       "      <td>531379050</td>\n",
       "      <td>60</td>\n",
       "      <td>RL</td>\n",
       "      <td>43.0</td>\n",
       "      <td>11492</td>\n",
       "      <td>Pave</td>\n",
       "      <td>NaN</td>\n",
       "      <td>IR1</td>\n",
       "      <td>Lvl</td>\n",
       "      <td>...</td>\n",
       "      <td>0</td>\n",
       "      <td>0</td>\n",
       "      <td>NaN</td>\n",
       "      <td>NaN</td>\n",
       "      <td>NaN</td>\n",
       "      <td>0</td>\n",
       "      <td>4</td>\n",
       "      <td>2009</td>\n",
       "      <td>WD</td>\n",
       "      <td>220000</td>\n",
       "    </tr>\n",
       "    <tr>\n",
       "      <th>2</th>\n",
       "      <td>153</td>\n",
       "      <td>535304180</td>\n",
       "      <td>20</td>\n",
       "      <td>RL</td>\n",
       "      <td>68.0</td>\n",
       "      <td>7922</td>\n",
       "      <td>Pave</td>\n",
       "      <td>NaN</td>\n",
       "      <td>Reg</td>\n",
       "      <td>Lvl</td>\n",
       "      <td>...</td>\n",
       "      <td>0</td>\n",
       "      <td>0</td>\n",
       "      <td>NaN</td>\n",
       "      <td>NaN</td>\n",
       "      <td>NaN</td>\n",
       "      <td>0</td>\n",
       "      <td>1</td>\n",
       "      <td>2010</td>\n",
       "      <td>WD</td>\n",
       "      <td>109000</td>\n",
       "    </tr>\n",
       "    <tr>\n",
       "      <th>3</th>\n",
       "      <td>318</td>\n",
       "      <td>916386060</td>\n",
       "      <td>60</td>\n",
       "      <td>RL</td>\n",
       "      <td>73.0</td>\n",
       "      <td>9802</td>\n",
       "      <td>Pave</td>\n",
       "      <td>NaN</td>\n",
       "      <td>Reg</td>\n",
       "      <td>Lvl</td>\n",
       "      <td>...</td>\n",
       "      <td>0</td>\n",
       "      <td>0</td>\n",
       "      <td>NaN</td>\n",
       "      <td>NaN</td>\n",
       "      <td>NaN</td>\n",
       "      <td>0</td>\n",
       "      <td>4</td>\n",
       "      <td>2010</td>\n",
       "      <td>WD</td>\n",
       "      <td>174000</td>\n",
       "    </tr>\n",
       "    <tr>\n",
       "      <th>4</th>\n",
       "      <td>255</td>\n",
       "      <td>906425045</td>\n",
       "      <td>50</td>\n",
       "      <td>RL</td>\n",
       "      <td>82.0</td>\n",
       "      <td>14235</td>\n",
       "      <td>Pave</td>\n",
       "      <td>NaN</td>\n",
       "      <td>IR1</td>\n",
       "      <td>Lvl</td>\n",
       "      <td>...</td>\n",
       "      <td>0</td>\n",
       "      <td>0</td>\n",
       "      <td>NaN</td>\n",
       "      <td>NaN</td>\n",
       "      <td>NaN</td>\n",
       "      <td>0</td>\n",
       "      <td>3</td>\n",
       "      <td>2010</td>\n",
       "      <td>WD</td>\n",
       "      <td>138500</td>\n",
       "    </tr>\n",
       "  </tbody>\n",
       "</table>\n",
       "<p>5 rows × 81 columns</p>\n",
       "</div>"
      ],
      "text/plain": [
       "    Id        PID  MS SubClass MS Zoning  Lot Frontage  Lot Area Street Alley  \\\n",
       "0  109  533352170           60        RL           NaN     13517   Pave   NaN   \n",
       "1  544  531379050           60        RL          43.0     11492   Pave   NaN   \n",
       "2  153  535304180           20        RL          68.0      7922   Pave   NaN   \n",
       "3  318  916386060           60        RL          73.0      9802   Pave   NaN   \n",
       "4  255  906425045           50        RL          82.0     14235   Pave   NaN   \n",
       "\n",
       "  Lot Shape Land Contour  ... Screen Porch Pool Area Pool QC Fence  \\\n",
       "0       IR1          Lvl  ...            0         0     NaN   NaN   \n",
       "1       IR1          Lvl  ...            0         0     NaN   NaN   \n",
       "2       Reg          Lvl  ...            0         0     NaN   NaN   \n",
       "3       Reg          Lvl  ...            0         0     NaN   NaN   \n",
       "4       IR1          Lvl  ...            0         0     NaN   NaN   \n",
       "\n",
       "  Misc Feature Misc Val Mo Sold Yr Sold  Sale Type  SalePrice  \n",
       "0          NaN        0       3    2010        WD      130500  \n",
       "1          NaN        0       4    2009        WD      220000  \n",
       "2          NaN        0       1    2010        WD      109000  \n",
       "3          NaN        0       4    2010        WD      174000  \n",
       "4          NaN        0       3    2010        WD      138500  \n",
       "\n",
       "[5 rows x 81 columns]"
      ]
     },
     "execution_count": 67,
     "metadata": {},
     "output_type": "execute_result"
    }
   ],
   "source": [
    "train = pd.read_csv('datasets/train.csv')\n",
    "test = pd.read_csv('datasets/test.csv')\n",
    "print(train.shape)\n",
    "print(test.shape)\n",
    "train.head()"
   ]
  },
  {
   "cell_type": "markdown",
   "id": "252714e1",
   "metadata": {},
   "source": [
    "### Train dataset has 1 more column than Test dataset."
   ]
  },
  {
   "cell_type": "code",
   "execution_count": 68,
   "id": "dd7b095c",
   "metadata": {},
   "outputs": [
    {
     "data": {
      "text/plain": [
       "['SalePrice']"
      ]
     },
     "execution_count": 68,
     "metadata": {},
     "output_type": "execute_result"
    }
   ],
   "source": [
    "missing_column = []\n",
    "for column in train.columns:\n",
    "    if column not in test.columns:\n",
    "        missing_column.append(column)\n",
    "missing_column"
   ]
  },
  {
   "cell_type": "markdown",
   "id": "d1c78fbf",
   "metadata": {},
   "source": [
    "### Test dataset does not have the SalePrice column."
   ]
  },
  {
   "cell_type": "code",
   "execution_count": 69,
   "id": "21d5f415",
   "metadata": {},
   "outputs": [
    {
     "name": "stdout",
     "output_type": "stream",
     "text": [
      "<class 'pandas.core.frame.DataFrame'>\n",
      "RangeIndex: 2051 entries, 0 to 2050\n",
      "Data columns (total 81 columns):\n",
      " #   Column           Non-Null Count  Dtype  \n",
      "---  ------           --------------  -----  \n",
      " 0   Id               2051 non-null   int64  \n",
      " 1   PID              2051 non-null   int64  \n",
      " 2   MS SubClass      2051 non-null   int64  \n",
      " 3   MS Zoning        2051 non-null   object \n",
      " 4   Lot Frontage     1721 non-null   float64\n",
      " 5   Lot Area         2051 non-null   int64  \n",
      " 6   Street           2051 non-null   object \n",
      " 7   Alley            140 non-null    object \n",
      " 8   Lot Shape        2051 non-null   object \n",
      " 9   Land Contour     2051 non-null   object \n",
      " 10  Utilities        2051 non-null   object \n",
      " 11  Lot Config       2051 non-null   object \n",
      " 12  Land Slope       2051 non-null   object \n",
      " 13  Neighborhood     2051 non-null   object \n",
      " 14  Condition 1      2051 non-null   object \n",
      " 15  Condition 2      2051 non-null   object \n",
      " 16  Bldg Type        2051 non-null   object \n",
      " 17  House Style      2051 non-null   object \n",
      " 18  Overall Qual     2051 non-null   int64  \n",
      " 19  Overall Cond     2051 non-null   int64  \n",
      " 20  Year Built       2051 non-null   int64  \n",
      " 21  Year Remod/Add   2051 non-null   int64  \n",
      " 22  Roof Style       2051 non-null   object \n",
      " 23  Roof Matl        2051 non-null   object \n",
      " 24  Exterior 1st     2051 non-null   object \n",
      " 25  Exterior 2nd     2051 non-null   object \n",
      " 26  Mas Vnr Type     2029 non-null   object \n",
      " 27  Mas Vnr Area     2029 non-null   float64\n",
      " 28  Exter Qual       2051 non-null   object \n",
      " 29  Exter Cond       2051 non-null   object \n",
      " 30  Foundation       2051 non-null   object \n",
      " 31  Bsmt Qual        1996 non-null   object \n",
      " 32  Bsmt Cond        1996 non-null   object \n",
      " 33  Bsmt Exposure    1993 non-null   object \n",
      " 34  BsmtFin Type 1   1996 non-null   object \n",
      " 35  BsmtFin SF 1     2050 non-null   float64\n",
      " 36  BsmtFin Type 2   1995 non-null   object \n",
      " 37  BsmtFin SF 2     2050 non-null   float64\n",
      " 38  Bsmt Unf SF      2050 non-null   float64\n",
      " 39  Total Bsmt SF    2050 non-null   float64\n",
      " 40  Heating          2051 non-null   object \n",
      " 41  Heating QC       2051 non-null   object \n",
      " 42  Central Air      2051 non-null   object \n",
      " 43  Electrical       2051 non-null   object \n",
      " 44  1st Flr SF       2051 non-null   int64  \n",
      " 45  2nd Flr SF       2051 non-null   int64  \n",
      " 46  Low Qual Fin SF  2051 non-null   int64  \n",
      " 47  Gr Liv Area      2051 non-null   int64  \n",
      " 48  Bsmt Full Bath   2049 non-null   float64\n",
      " 49  Bsmt Half Bath   2049 non-null   float64\n",
      " 50  Full Bath        2051 non-null   int64  \n",
      " 51  Half Bath        2051 non-null   int64  \n",
      " 52  Bedroom AbvGr    2051 non-null   int64  \n",
      " 53  Kitchen AbvGr    2051 non-null   int64  \n",
      " 54  Kitchen Qual     2051 non-null   object \n",
      " 55  TotRms AbvGrd    2051 non-null   int64  \n",
      " 56  Functional       2051 non-null   object \n",
      " 57  Fireplaces       2051 non-null   int64  \n",
      " 58  Fireplace Qu     1051 non-null   object \n",
      " 59  Garage Type      1938 non-null   object \n",
      " 60  Garage Yr Blt    1937 non-null   float64\n",
      " 61  Garage Finish    1937 non-null   object \n",
      " 62  Garage Cars      2050 non-null   float64\n",
      " 63  Garage Area      2050 non-null   float64\n",
      " 64  Garage Qual      1937 non-null   object \n",
      " 65  Garage Cond      1937 non-null   object \n",
      " 66  Paved Drive      2051 non-null   object \n",
      " 67  Wood Deck SF     2051 non-null   int64  \n",
      " 68  Open Porch SF    2051 non-null   int64  \n",
      " 69  Enclosed Porch   2051 non-null   int64  \n",
      " 70  3Ssn Porch       2051 non-null   int64  \n",
      " 71  Screen Porch     2051 non-null   int64  \n",
      " 72  Pool Area        2051 non-null   int64  \n",
      " 73  Pool QC          9 non-null      object \n",
      " 74  Fence            400 non-null    object \n",
      " 75  Misc Feature     65 non-null     object \n",
      " 76  Misc Val         2051 non-null   int64  \n",
      " 77  Mo Sold          2051 non-null   int64  \n",
      " 78  Yr Sold          2051 non-null   int64  \n",
      " 79  Sale Type        2051 non-null   object \n",
      " 80  SalePrice        2051 non-null   int64  \n",
      "dtypes: float64(11), int64(28), object(42)\n",
      "memory usage: 1.3+ MB\n"
     ]
    }
   ],
   "source": [
    "train.info()"
   ]
  },
  {
   "cell_type": "code",
   "execution_count": 70,
   "id": "0dca4003",
   "metadata": {},
   "outputs": [
    {
     "data": {
      "text/html": [
       "<div>\n",
       "<style scoped>\n",
       "    .dataframe tbody tr th:only-of-type {\n",
       "        vertical-align: middle;\n",
       "    }\n",
       "\n",
       "    .dataframe tbody tr th {\n",
       "        vertical-align: top;\n",
       "    }\n",
       "\n",
       "    .dataframe thead th {\n",
       "        text-align: right;\n",
       "    }\n",
       "</style>\n",
       "<table border=\"1\" class=\"dataframe\">\n",
       "  <thead>\n",
       "    <tr style=\"text-align: right;\">\n",
       "      <th></th>\n",
       "      <th>Feature</th>\n",
       "      <th>No. of missing values</th>\n",
       "      <th>Percentage of missing values</th>\n",
       "    </tr>\n",
       "  </thead>\n",
       "  <tbody>\n",
       "    <tr>\n",
       "      <th>0</th>\n",
       "      <td>Pool QC</td>\n",
       "      <td>2042</td>\n",
       "      <td>99.56</td>\n",
       "    </tr>\n",
       "    <tr>\n",
       "      <th>1</th>\n",
       "      <td>Misc Feature</td>\n",
       "      <td>1986</td>\n",
       "      <td>96.83</td>\n",
       "    </tr>\n",
       "    <tr>\n",
       "      <th>2</th>\n",
       "      <td>Alley</td>\n",
       "      <td>1911</td>\n",
       "      <td>93.17</td>\n",
       "    </tr>\n",
       "    <tr>\n",
       "      <th>3</th>\n",
       "      <td>Fence</td>\n",
       "      <td>1651</td>\n",
       "      <td>80.50</td>\n",
       "    </tr>\n",
       "    <tr>\n",
       "      <th>4</th>\n",
       "      <td>Fireplace Qu</td>\n",
       "      <td>1000</td>\n",
       "      <td>48.76</td>\n",
       "    </tr>\n",
       "    <tr>\n",
       "      <th>5</th>\n",
       "      <td>Lot Frontage</td>\n",
       "      <td>330</td>\n",
       "      <td>16.09</td>\n",
       "    </tr>\n",
       "    <tr>\n",
       "      <th>6</th>\n",
       "      <td>Garage Finish</td>\n",
       "      <td>114</td>\n",
       "      <td>5.56</td>\n",
       "    </tr>\n",
       "    <tr>\n",
       "      <th>7</th>\n",
       "      <td>Garage Qual</td>\n",
       "      <td>114</td>\n",
       "      <td>5.56</td>\n",
       "    </tr>\n",
       "    <tr>\n",
       "      <th>8</th>\n",
       "      <td>Garage Yr Blt</td>\n",
       "      <td>114</td>\n",
       "      <td>5.56</td>\n",
       "    </tr>\n",
       "    <tr>\n",
       "      <th>9</th>\n",
       "      <td>Garage Cond</td>\n",
       "      <td>114</td>\n",
       "      <td>5.56</td>\n",
       "    </tr>\n",
       "    <tr>\n",
       "      <th>10</th>\n",
       "      <td>Garage Type</td>\n",
       "      <td>113</td>\n",
       "      <td>5.51</td>\n",
       "    </tr>\n",
       "    <tr>\n",
       "      <th>11</th>\n",
       "      <td>Bsmt Exposure</td>\n",
       "      <td>58</td>\n",
       "      <td>2.83</td>\n",
       "    </tr>\n",
       "    <tr>\n",
       "      <th>12</th>\n",
       "      <td>BsmtFin Type 2</td>\n",
       "      <td>56</td>\n",
       "      <td>2.73</td>\n",
       "    </tr>\n",
       "    <tr>\n",
       "      <th>13</th>\n",
       "      <td>BsmtFin Type 1</td>\n",
       "      <td>55</td>\n",
       "      <td>2.68</td>\n",
       "    </tr>\n",
       "    <tr>\n",
       "      <th>14</th>\n",
       "      <td>Bsmt Cond</td>\n",
       "      <td>55</td>\n",
       "      <td>2.68</td>\n",
       "    </tr>\n",
       "    <tr>\n",
       "      <th>15</th>\n",
       "      <td>Bsmt Qual</td>\n",
       "      <td>55</td>\n",
       "      <td>2.68</td>\n",
       "    </tr>\n",
       "    <tr>\n",
       "      <th>16</th>\n",
       "      <td>Mas Vnr Area</td>\n",
       "      <td>22</td>\n",
       "      <td>1.07</td>\n",
       "    </tr>\n",
       "    <tr>\n",
       "      <th>17</th>\n",
       "      <td>Mas Vnr Type</td>\n",
       "      <td>22</td>\n",
       "      <td>1.07</td>\n",
       "    </tr>\n",
       "    <tr>\n",
       "      <th>18</th>\n",
       "      <td>Bsmt Half Bath</td>\n",
       "      <td>2</td>\n",
       "      <td>0.10</td>\n",
       "    </tr>\n",
       "    <tr>\n",
       "      <th>19</th>\n",
       "      <td>Bsmt Full Bath</td>\n",
       "      <td>2</td>\n",
       "      <td>0.10</td>\n",
       "    </tr>\n",
       "    <tr>\n",
       "      <th>20</th>\n",
       "      <td>Garage Area</td>\n",
       "      <td>1</td>\n",
       "      <td>0.05</td>\n",
       "    </tr>\n",
       "    <tr>\n",
       "      <th>21</th>\n",
       "      <td>Total Bsmt SF</td>\n",
       "      <td>1</td>\n",
       "      <td>0.05</td>\n",
       "    </tr>\n",
       "    <tr>\n",
       "      <th>22</th>\n",
       "      <td>Bsmt Unf SF</td>\n",
       "      <td>1</td>\n",
       "      <td>0.05</td>\n",
       "    </tr>\n",
       "    <tr>\n",
       "      <th>23</th>\n",
       "      <td>BsmtFin SF 2</td>\n",
       "      <td>1</td>\n",
       "      <td>0.05</td>\n",
       "    </tr>\n",
       "    <tr>\n",
       "      <th>24</th>\n",
       "      <td>BsmtFin SF 1</td>\n",
       "      <td>1</td>\n",
       "      <td>0.05</td>\n",
       "    </tr>\n",
       "    <tr>\n",
       "      <th>25</th>\n",
       "      <td>Garage Cars</td>\n",
       "      <td>1</td>\n",
       "      <td>0.05</td>\n",
       "    </tr>\n",
       "  </tbody>\n",
       "</table>\n",
       "</div>"
      ],
      "text/plain": [
       "           Feature  No. of missing values  Percentage of missing values\n",
       "0          Pool QC                   2042                         99.56\n",
       "1     Misc Feature                   1986                         96.83\n",
       "2            Alley                   1911                         93.17\n",
       "3            Fence                   1651                         80.50\n",
       "4     Fireplace Qu                   1000                         48.76\n",
       "5     Lot Frontage                    330                         16.09\n",
       "6    Garage Finish                    114                          5.56\n",
       "7      Garage Qual                    114                          5.56\n",
       "8    Garage Yr Blt                    114                          5.56\n",
       "9      Garage Cond                    114                          5.56\n",
       "10     Garage Type                    113                          5.51\n",
       "11   Bsmt Exposure                     58                          2.83\n",
       "12  BsmtFin Type 2                     56                          2.73\n",
       "13  BsmtFin Type 1                     55                          2.68\n",
       "14       Bsmt Cond                     55                          2.68\n",
       "15       Bsmt Qual                     55                          2.68\n",
       "16    Mas Vnr Area                     22                          1.07\n",
       "17    Mas Vnr Type                     22                          1.07\n",
       "18  Bsmt Half Bath                      2                          0.10\n",
       "19  Bsmt Full Bath                      2                          0.10\n",
       "20     Garage Area                      1                          0.05\n",
       "21   Total Bsmt SF                      1                          0.05\n",
       "22     Bsmt Unf SF                      1                          0.05\n",
       "23    BsmtFin SF 2                      1                          0.05\n",
       "24    BsmtFin SF 1                      1                          0.05\n",
       "25     Garage Cars                      1                          0.05"
      ]
     },
     "execution_count": 70,
     "metadata": {},
     "output_type": "execute_result"
    }
   ],
   "source": [
    "missing_df = []\n",
    "for key, value in train.isnull().sum().sort_values(ascending=False).items():\n",
    "    if value != 0:\n",
    "        missing_row = []\n",
    "        missing_row.append(key)\n",
    "        missing_row.append(value)\n",
    "        percentage = round(value/train.shape[0]*100,2)\n",
    "        missing_row.append(percentage)\n",
    "        missing_df.append(missing_row)\n",
    "missing_df = pd.DataFrame(missing_df, columns = ['Feature', 'No. of missing values', 'Percentage of missing values'] )\n",
    "missing_df"
   ]
  },
  {
   "cell_type": "markdown",
   "id": "03934ebf",
   "metadata": {},
   "source": [
    "## Remove Features with too many missing values\n",
    "\n",
    "### Set threshold as 10%. If a feature has more than 10% of its values missing, remove that feature from the dataset."
   ]
  },
  {
   "cell_type": "code",
   "execution_count": 71,
   "id": "088353c8",
   "metadata": {},
   "outputs": [
    {
     "data": {
      "text/plain": [
       "['Pool QC', 'Misc Feature', 'Alley', 'Fence', 'Fireplace Qu', 'Lot Frontage']"
      ]
     },
     "execution_count": 71,
     "metadata": {},
     "output_type": "execute_result"
    }
   ],
   "source": [
    "threshold = 10\n",
    "features_to_remove = []\n",
    "for key, value in train.isnull().sum().sort_values(ascending=False).items():\n",
    "    if round(value/train.shape[0]*100,2) >= threshold:\n",
    "        features_to_remove.append(key)\n",
    "features_to_remove"
   ]
  },
  {
   "cell_type": "code",
   "execution_count": 72,
   "id": "ebbf81e2",
   "metadata": {},
   "outputs": [],
   "source": [
    "train = train.drop(columns = features_to_remove)\n",
    "test = test.drop(columns = features_to_remove)"
   ]
  },
  {
   "cell_type": "markdown",
   "id": "d0b97bb0",
   "metadata": {},
   "source": [
    "## Imputing Missing Values"
   ]
  },
  {
   "cell_type": "code",
   "execution_count": 73,
   "id": "38087ed9",
   "metadata": {},
   "outputs": [
    {
     "data": {
      "text/html": [
       "<div>\n",
       "<style scoped>\n",
       "    .dataframe tbody tr th:only-of-type {\n",
       "        vertical-align: middle;\n",
       "    }\n",
       "\n",
       "    .dataframe tbody tr th {\n",
       "        vertical-align: top;\n",
       "    }\n",
       "\n",
       "    .dataframe thead th {\n",
       "        text-align: right;\n",
       "    }\n",
       "</style>\n",
       "<table border=\"1\" class=\"dataframe\">\n",
       "  <thead>\n",
       "    <tr style=\"text-align: right;\">\n",
       "      <th></th>\n",
       "      <th>Feature</th>\n",
       "      <th>No. of missing values</th>\n",
       "      <th>Percentage of missing values</th>\n",
       "    </tr>\n",
       "  </thead>\n",
       "  <tbody>\n",
       "    <tr>\n",
       "      <th>0</th>\n",
       "      <td>Garage Yr Blt</td>\n",
       "      <td>114</td>\n",
       "      <td>5.56</td>\n",
       "    </tr>\n",
       "    <tr>\n",
       "      <th>1</th>\n",
       "      <td>Garage Finish</td>\n",
       "      <td>114</td>\n",
       "      <td>5.56</td>\n",
       "    </tr>\n",
       "    <tr>\n",
       "      <th>2</th>\n",
       "      <td>Garage Qual</td>\n",
       "      <td>114</td>\n",
       "      <td>5.56</td>\n",
       "    </tr>\n",
       "    <tr>\n",
       "      <th>3</th>\n",
       "      <td>Garage Cond</td>\n",
       "      <td>114</td>\n",
       "      <td>5.56</td>\n",
       "    </tr>\n",
       "    <tr>\n",
       "      <th>4</th>\n",
       "      <td>Garage Type</td>\n",
       "      <td>113</td>\n",
       "      <td>5.51</td>\n",
       "    </tr>\n",
       "    <tr>\n",
       "      <th>5</th>\n",
       "      <td>Bsmt Exposure</td>\n",
       "      <td>58</td>\n",
       "      <td>2.83</td>\n",
       "    </tr>\n",
       "    <tr>\n",
       "      <th>6</th>\n",
       "      <td>BsmtFin Type 2</td>\n",
       "      <td>56</td>\n",
       "      <td>2.73</td>\n",
       "    </tr>\n",
       "    <tr>\n",
       "      <th>7</th>\n",
       "      <td>Bsmt Cond</td>\n",
       "      <td>55</td>\n",
       "      <td>2.68</td>\n",
       "    </tr>\n",
       "    <tr>\n",
       "      <th>8</th>\n",
       "      <td>Bsmt Qual</td>\n",
       "      <td>55</td>\n",
       "      <td>2.68</td>\n",
       "    </tr>\n",
       "    <tr>\n",
       "      <th>9</th>\n",
       "      <td>BsmtFin Type 1</td>\n",
       "      <td>55</td>\n",
       "      <td>2.68</td>\n",
       "    </tr>\n",
       "    <tr>\n",
       "      <th>10</th>\n",
       "      <td>Mas Vnr Area</td>\n",
       "      <td>22</td>\n",
       "      <td>1.07</td>\n",
       "    </tr>\n",
       "    <tr>\n",
       "      <th>11</th>\n",
       "      <td>Mas Vnr Type</td>\n",
       "      <td>22</td>\n",
       "      <td>1.07</td>\n",
       "    </tr>\n",
       "    <tr>\n",
       "      <th>12</th>\n",
       "      <td>Bsmt Half Bath</td>\n",
       "      <td>2</td>\n",
       "      <td>0.10</td>\n",
       "    </tr>\n",
       "    <tr>\n",
       "      <th>13</th>\n",
       "      <td>Bsmt Full Bath</td>\n",
       "      <td>2</td>\n",
       "      <td>0.10</td>\n",
       "    </tr>\n",
       "    <tr>\n",
       "      <th>14</th>\n",
       "      <td>BsmtFin SF 1</td>\n",
       "      <td>1</td>\n",
       "      <td>0.05</td>\n",
       "    </tr>\n",
       "    <tr>\n",
       "      <th>15</th>\n",
       "      <td>BsmtFin SF 2</td>\n",
       "      <td>1</td>\n",
       "      <td>0.05</td>\n",
       "    </tr>\n",
       "    <tr>\n",
       "      <th>16</th>\n",
       "      <td>Bsmt Unf SF</td>\n",
       "      <td>1</td>\n",
       "      <td>0.05</td>\n",
       "    </tr>\n",
       "    <tr>\n",
       "      <th>17</th>\n",
       "      <td>Garage Area</td>\n",
       "      <td>1</td>\n",
       "      <td>0.05</td>\n",
       "    </tr>\n",
       "    <tr>\n",
       "      <th>18</th>\n",
       "      <td>Garage Cars</td>\n",
       "      <td>1</td>\n",
       "      <td>0.05</td>\n",
       "    </tr>\n",
       "    <tr>\n",
       "      <th>19</th>\n",
       "      <td>Total Bsmt SF</td>\n",
       "      <td>1</td>\n",
       "      <td>0.05</td>\n",
       "    </tr>\n",
       "  </tbody>\n",
       "</table>\n",
       "</div>"
      ],
      "text/plain": [
       "           Feature  No. of missing values  Percentage of missing values\n",
       "0    Garage Yr Blt                    114                          5.56\n",
       "1    Garage Finish                    114                          5.56\n",
       "2      Garage Qual                    114                          5.56\n",
       "3      Garage Cond                    114                          5.56\n",
       "4      Garage Type                    113                          5.51\n",
       "5    Bsmt Exposure                     58                          2.83\n",
       "6   BsmtFin Type 2                     56                          2.73\n",
       "7        Bsmt Cond                     55                          2.68\n",
       "8        Bsmt Qual                     55                          2.68\n",
       "9   BsmtFin Type 1                     55                          2.68\n",
       "10    Mas Vnr Area                     22                          1.07\n",
       "11    Mas Vnr Type                     22                          1.07\n",
       "12  Bsmt Half Bath                      2                          0.10\n",
       "13  Bsmt Full Bath                      2                          0.10\n",
       "14    BsmtFin SF 1                      1                          0.05\n",
       "15    BsmtFin SF 2                      1                          0.05\n",
       "16     Bsmt Unf SF                      1                          0.05\n",
       "17     Garage Area                      1                          0.05\n",
       "18     Garage Cars                      1                          0.05\n",
       "19   Total Bsmt SF                      1                          0.05"
      ]
     },
     "execution_count": 73,
     "metadata": {},
     "output_type": "execute_result"
    }
   ],
   "source": [
    "missing_df = []\n",
    "for key, value in train.isnull().sum().sort_values(ascending=False).items():\n",
    "    if value != 0:\n",
    "        missing_row = []\n",
    "        missing_row.append(key)\n",
    "        missing_row.append(value)\n",
    "        percentage = round(value/train.shape[0]*100,2)\n",
    "        missing_row.append(percentage)\n",
    "        missing_df.append(missing_row)\n",
    "missing_df = pd.DataFrame(missing_df, columns = ['Feature', 'No. of missing values', 'Percentage of missing values'] )\n",
    "missing_df"
   ]
  },
  {
   "cell_type": "markdown",
   "id": "78de914a",
   "metadata": {},
   "source": [
    "## The features that have missing values are related to the Garage, Basement or Mason Veneer. Deep-dive into Garage first."
   ]
  },
  {
   "cell_type": "code",
   "execution_count": 74,
   "id": "e98e52bf",
   "metadata": {},
   "outputs": [
    {
     "data": {
      "text/plain": [
       "NaN       0.055583\n",
       "2005.0    0.051195\n",
       "2007.0    0.040956\n",
       "2006.0    0.039005\n",
       "2004.0    0.035105\n",
       "            ...   \n",
       "2207.0    0.000488\n",
       "1895.0    0.000488\n",
       "1918.0    0.000488\n",
       "1933.0    0.000488\n",
       "1919.0    0.000488\n",
       "Name: Garage Yr Blt, Length: 101, dtype: float64"
      ]
     },
     "execution_count": 74,
     "metadata": {},
     "output_type": "execute_result"
    }
   ],
   "source": [
    "train['Garage Yr Blt'].value_counts(normalize=True, dropna = False)"
   ]
  },
  {
   "cell_type": "code",
   "execution_count": 75,
   "id": "eee4f637",
   "metadata": {},
   "outputs": [
    {
     "data": {
      "text/plain": [
       "Unf    0.413944\n",
       "RFn    0.282301\n",
       "Fin    0.248172\n",
       "NaN    0.055583\n",
       "Name: Garage Finish, dtype: float64"
      ]
     },
     "execution_count": 75,
     "metadata": {},
     "output_type": "execute_result"
    }
   ],
   "source": [
    "train['Garage Finish'].value_counts(normalize=True, dropna = False)"
   ]
  },
  {
   "cell_type": "code",
   "execution_count": 76,
   "id": "230e53e0",
   "metadata": {},
   "outputs": [
    {
     "data": {
      "text/plain": [
       "TA     0.893223\n",
       "NaN    0.055583\n",
       "Fa     0.039980\n",
       "Gd     0.008776\n",
       "Ex     0.001463\n",
       "Po     0.000975\n",
       "Name: Garage Qual, dtype: float64"
      ]
     },
     "execution_count": 76,
     "metadata": {},
     "output_type": "execute_result"
    }
   ],
   "source": [
    "train['Garage Qual'].value_counts(normalize=True, dropna = False)"
   ]
  },
  {
   "cell_type": "code",
   "execution_count": 77,
   "id": "39d64242",
   "metadata": {},
   "outputs": [
    {
     "data": {
      "text/plain": [
       "TA     0.910775\n",
       "NaN    0.055583\n",
       "Fa     0.022916\n",
       "Gd     0.005851\n",
       "Po     0.003901\n",
       "Ex     0.000975\n",
       "Name: Garage Cond, dtype: float64"
      ]
     },
     "execution_count": 77,
     "metadata": {},
     "output_type": "execute_result"
    }
   ],
   "source": [
    "train['Garage Cond'].value_counts(normalize=True, dropna = False)"
   ]
  },
  {
   "cell_type": "code",
   "execution_count": 78,
   "id": "e6cec1f3",
   "metadata": {},
   "outputs": [
    {
     "data": {
      "text/plain": [
       "Attchd     0.591419\n",
       "Detchd     0.261336\n",
       "BuiltIn    0.064359\n",
       "NaN        0.055095\n",
       "Basment    0.013164\n",
       "2Types     0.009264\n",
       "CarPort    0.005363\n",
       "Name: Garage Type, dtype: float64"
      ]
     },
     "execution_count": 78,
     "metadata": {},
     "output_type": "execute_result"
    }
   ],
   "source": [
    "train['Garage Type'].value_counts(normalize=True, dropna = False)"
   ]
  },
  {
   "cell_type": "code",
   "execution_count": 79,
   "id": "31c79b26",
   "metadata": {},
   "outputs": [
    {
     "data": {
      "text/plain": [
       "0.0       0.055095\n",
       "440.0     0.034130\n",
       "576.0     0.033642\n",
       "484.0     0.025353\n",
       "528.0     0.022428\n",
       "            ...   \n",
       "752.0     0.000488\n",
       "858.0     0.000488\n",
       "422.0     0.000488\n",
       "845.0     0.000488\n",
       "1174.0    0.000488\n",
       "Name: Garage Area, Length: 515, dtype: float64"
      ]
     },
     "execution_count": 79,
     "metadata": {},
     "output_type": "execute_result"
    }
   ],
   "source": [
    "train['Garage Area'].value_counts(normalize=True, dropna = False)"
   ]
  },
  {
   "cell_type": "code",
   "execution_count": 80,
   "id": "427b993d",
   "metadata": {},
   "outputs": [
    {
     "data": {
      "text/plain": [
       "2.0    0.553876\n",
       "1.0    0.255485\n",
       "3.0    0.128230\n",
       "0.0    0.055095\n",
       "4.0    0.006338\n",
       "5.0    0.000488\n",
       "NaN    0.000488\n",
       "Name: Garage Cars, dtype: float64"
      ]
     },
     "execution_count": 80,
     "metadata": {},
     "output_type": "execute_result"
    }
   ],
   "source": [
    "train['Garage Cars'].value_counts(normalize=True, dropna = False)"
   ]
  },
  {
   "cell_type": "markdown",
   "id": "f1e17634",
   "metadata": {},
   "source": [
    "### According to the data dictionary, houses without Garages are supposed to have the value NA under the Garage-related features. However, this value does not exist in the features. Assume that the houses with missing values have no Garages. For ordinal features, impute the missing values with NA. For continuous features, impute the missing values with 0."
   ]
  },
  {
   "cell_type": "code",
   "execution_count": 81,
   "id": "4dcb1a3c",
   "metadata": {},
   "outputs": [],
   "source": [
    "train['Garage Yr Blt'].fillna(0, inplace = True)\n",
    "train['Garage Finish'].fillna('NA', inplace = True)\n",
    "train['Garage Qual'].fillna('NA', inplace = True)\n",
    "train['Garage Cond'].fillna('NA', inplace = True)\n",
    "train['Garage Type'].fillna('NA', inplace = True)\n",
    "train['Garage Area'].fillna(0, inplace = True)\n",
    "train['Garage Cars'].fillna(0, inplace = True)"
   ]
  },
  {
   "cell_type": "markdown",
   "id": "ba1c26ce",
   "metadata": {},
   "source": [
    "### Do the same for test dataset."
   ]
  },
  {
   "cell_type": "code",
   "execution_count": 82,
   "id": "c8ba2808",
   "metadata": {},
   "outputs": [],
   "source": [
    "test['Garage Yr Blt'].fillna(0, inplace = True)\n",
    "test['Garage Finish'].fillna('NA', inplace = True)\n",
    "test['Garage Qual'].fillna('NA', inplace = True)\n",
    "test['Garage Cond'].fillna('NA', inplace = True)\n",
    "test['Garage Type'].fillna('NA', inplace = True)\n",
    "test['Garage Area'].fillna(0, inplace = True)\n",
    "test['Garage Cars'].fillna(0, inplace = True)"
   ]
  },
  {
   "cell_type": "markdown",
   "id": "179d4852",
   "metadata": {},
   "source": [
    "### Check for features with missing values again, the Garage-related features should be gone."
   ]
  },
  {
   "cell_type": "code",
   "execution_count": 83,
   "id": "03dc27fe",
   "metadata": {},
   "outputs": [
    {
     "data": {
      "text/html": [
       "<div>\n",
       "<style scoped>\n",
       "    .dataframe tbody tr th:only-of-type {\n",
       "        vertical-align: middle;\n",
       "    }\n",
       "\n",
       "    .dataframe tbody tr th {\n",
       "        vertical-align: top;\n",
       "    }\n",
       "\n",
       "    .dataframe thead th {\n",
       "        text-align: right;\n",
       "    }\n",
       "</style>\n",
       "<table border=\"1\" class=\"dataframe\">\n",
       "  <thead>\n",
       "    <tr style=\"text-align: right;\">\n",
       "      <th></th>\n",
       "      <th>Feature</th>\n",
       "      <th>No. of missing values</th>\n",
       "      <th>Percentage of missing values</th>\n",
       "    </tr>\n",
       "  </thead>\n",
       "  <tbody>\n",
       "    <tr>\n",
       "      <th>0</th>\n",
       "      <td>Bsmt Exposure</td>\n",
       "      <td>58</td>\n",
       "      <td>2.83</td>\n",
       "    </tr>\n",
       "    <tr>\n",
       "      <th>1</th>\n",
       "      <td>BsmtFin Type 2</td>\n",
       "      <td>56</td>\n",
       "      <td>2.73</td>\n",
       "    </tr>\n",
       "    <tr>\n",
       "      <th>2</th>\n",
       "      <td>BsmtFin Type 1</td>\n",
       "      <td>55</td>\n",
       "      <td>2.68</td>\n",
       "    </tr>\n",
       "    <tr>\n",
       "      <th>3</th>\n",
       "      <td>Bsmt Qual</td>\n",
       "      <td>55</td>\n",
       "      <td>2.68</td>\n",
       "    </tr>\n",
       "    <tr>\n",
       "      <th>4</th>\n",
       "      <td>Bsmt Cond</td>\n",
       "      <td>55</td>\n",
       "      <td>2.68</td>\n",
       "    </tr>\n",
       "    <tr>\n",
       "      <th>5</th>\n",
       "      <td>Mas Vnr Type</td>\n",
       "      <td>22</td>\n",
       "      <td>1.07</td>\n",
       "    </tr>\n",
       "    <tr>\n",
       "      <th>6</th>\n",
       "      <td>Mas Vnr Area</td>\n",
       "      <td>22</td>\n",
       "      <td>1.07</td>\n",
       "    </tr>\n",
       "    <tr>\n",
       "      <th>7</th>\n",
       "      <td>Bsmt Full Bath</td>\n",
       "      <td>2</td>\n",
       "      <td>0.10</td>\n",
       "    </tr>\n",
       "    <tr>\n",
       "      <th>8</th>\n",
       "      <td>Bsmt Half Bath</td>\n",
       "      <td>2</td>\n",
       "      <td>0.10</td>\n",
       "    </tr>\n",
       "    <tr>\n",
       "      <th>9</th>\n",
       "      <td>Total Bsmt SF</td>\n",
       "      <td>1</td>\n",
       "      <td>0.05</td>\n",
       "    </tr>\n",
       "    <tr>\n",
       "      <th>10</th>\n",
       "      <td>BsmtFin SF 1</td>\n",
       "      <td>1</td>\n",
       "      <td>0.05</td>\n",
       "    </tr>\n",
       "    <tr>\n",
       "      <th>11</th>\n",
       "      <td>BsmtFin SF 2</td>\n",
       "      <td>1</td>\n",
       "      <td>0.05</td>\n",
       "    </tr>\n",
       "    <tr>\n",
       "      <th>12</th>\n",
       "      <td>Bsmt Unf SF</td>\n",
       "      <td>1</td>\n",
       "      <td>0.05</td>\n",
       "    </tr>\n",
       "  </tbody>\n",
       "</table>\n",
       "</div>"
      ],
      "text/plain": [
       "           Feature  No. of missing values  Percentage of missing values\n",
       "0    Bsmt Exposure                     58                          2.83\n",
       "1   BsmtFin Type 2                     56                          2.73\n",
       "2   BsmtFin Type 1                     55                          2.68\n",
       "3        Bsmt Qual                     55                          2.68\n",
       "4        Bsmt Cond                     55                          2.68\n",
       "5     Mas Vnr Type                     22                          1.07\n",
       "6     Mas Vnr Area                     22                          1.07\n",
       "7   Bsmt Full Bath                      2                          0.10\n",
       "8   Bsmt Half Bath                      2                          0.10\n",
       "9    Total Bsmt SF                      1                          0.05\n",
       "10    BsmtFin SF 1                      1                          0.05\n",
       "11    BsmtFin SF 2                      1                          0.05\n",
       "12     Bsmt Unf SF                      1                          0.05"
      ]
     },
     "execution_count": 83,
     "metadata": {},
     "output_type": "execute_result"
    }
   ],
   "source": [
    "missing_df = []\n",
    "for key, value in train.isnull().sum().sort_values(ascending=False).items():\n",
    "    if value != 0:\n",
    "        missing_row = []\n",
    "        missing_row.append(key)\n",
    "        missing_row.append(value)\n",
    "        percentage = round(value/train.shape[0]*100,2)\n",
    "        missing_row.append(percentage)\n",
    "        missing_df.append(missing_row)\n",
    "missing_df = pd.DataFrame(missing_df, columns = ['Feature', 'No. of missing values', 'Percentage of missing values'] )\n",
    "missing_df"
   ]
  },
  {
   "cell_type": "markdown",
   "id": "d603d48b",
   "metadata": {},
   "source": [
    "## Next, check the Basement-related features."
   ]
  },
  {
   "cell_type": "code",
   "execution_count": 84,
   "id": "bf697bee",
   "metadata": {},
   "outputs": [
    {
     "data": {
      "text/plain": [
       "No     0.652852\n",
       "Av     0.140419\n",
       "Gd     0.098976\n",
       "Mn     0.079473\n",
       "NaN    0.028279\n",
       "Name: Bsmt Exposure, dtype: float64"
      ]
     },
     "execution_count": 84,
     "metadata": {},
     "output_type": "execute_result"
    }
   ],
   "source": [
    "train['Bsmt Exposure'].value_counts(normalize=True, dropna = False)"
   ]
  },
  {
   "cell_type": "code",
   "execution_count": 85,
   "id": "ffd3318a",
   "metadata": {},
   "outputs": [
    {
     "data": {
      "text/plain": [
       "Unf    0.852755\n",
       "Rec    0.039005\n",
       "LwQ    0.029254\n",
       "NaN    0.027304\n",
       "BLQ    0.023403\n",
       "ALQ    0.017065\n",
       "GLQ    0.011214\n",
       "Name: BsmtFin Type 2, dtype: float64"
      ]
     },
     "execution_count": 85,
     "metadata": {},
     "output_type": "execute_result"
    }
   ],
   "source": [
    "train['BsmtFin Type 2'].value_counts(normalize=True, dropna = False)"
   ]
  },
  {
   "cell_type": "code",
   "execution_count": 86,
   "id": "69236a62",
   "metadata": {},
   "outputs": [
    {
     "data": {
      "text/plain": [
       "GLQ    0.299854\n",
       "Unf    0.294003\n",
       "ALQ    0.142857\n",
       "BLQ    0.097513\n",
       "Rec    0.089225\n",
       "LwQ    0.049732\n",
       "NaN    0.026816\n",
       "Name: BsmtFin Type 1, dtype: float64"
      ]
     },
     "execution_count": 86,
     "metadata": {},
     "output_type": "execute_result"
    }
   ],
   "source": [
    "train['BsmtFin Type 1'].value_counts(normalize=True, dropna = False)"
   ]
  },
  {
   "cell_type": "code",
   "execution_count": 87,
   "id": "2ed76b6c",
   "metadata": {},
   "outputs": [
    {
     "data": {
      "text/plain": [
       "TA     0.432472\n",
       "Gd     0.421258\n",
       "Ex     0.089712\n",
       "Fa     0.029254\n",
       "NaN    0.026816\n",
       "Po     0.000488\n",
       "Name: Bsmt Qual, dtype: float64"
      ]
     },
     "execution_count": 87,
     "metadata": {},
     "output_type": "execute_result"
    }
   ],
   "source": [
    "train['Bsmt Qual'].value_counts(normalize=True, dropna = False)"
   ]
  },
  {
   "cell_type": "code",
   "execution_count": 88,
   "id": "3e7b1cc8",
   "metadata": {},
   "outputs": [
    {
     "data": {
      "text/plain": [
       "TA     0.894198\n",
       "Gd     0.043393\n",
       "Fa     0.031692\n",
       "NaN    0.026816\n",
       "Po     0.002438\n",
       "Ex     0.001463\n",
       "Name: Bsmt Cond, dtype: float64"
      ]
     },
     "execution_count": 88,
     "metadata": {},
     "output_type": "execute_result"
    }
   ],
   "source": [
    "train['Bsmt Cond'].value_counts(normalize=True, dropna = False)"
   ]
  },
  {
   "cell_type": "code",
   "execution_count": 89,
   "id": "88f0b338",
   "metadata": {},
   "outputs": [
    {
     "data": {
      "text/plain": [
       "0.0    0.585080\n",
       "1.0    0.401755\n",
       "2.0    0.011214\n",
       "NaN    0.000975\n",
       "3.0    0.000975\n",
       "Name: Bsmt Full Bath, dtype: float64"
      ]
     },
     "execution_count": 89,
     "metadata": {},
     "output_type": "execute_result"
    }
   ],
   "source": [
    "train['Bsmt Full Bath'].value_counts(normalize=True, dropna = False)"
   ]
  },
  {
   "cell_type": "code",
   "execution_count": 90,
   "id": "3fca3b19",
   "metadata": {},
   "outputs": [
    {
     "data": {
      "text/plain": [
       "0.0    0.937591\n",
       "1.0    0.059483\n",
       "2.0    0.001950\n",
       "NaN    0.000975\n",
       "Name: Bsmt Half Bath, dtype: float64"
      ]
     },
     "execution_count": 90,
     "metadata": {},
     "output_type": "execute_result"
    }
   ],
   "source": [
    "train['Bsmt Half Bath'].value_counts(normalize=True, dropna = False)"
   ]
  },
  {
   "cell_type": "code",
   "execution_count": 91,
   "id": "69859161",
   "metadata": {},
   "outputs": [
    {
     "data": {
      "text/plain": [
       "0.0       0.026329\n",
       "864.0     0.024866\n",
       "1040.0    0.009751\n",
       "672.0     0.009751\n",
       "816.0     0.008289\n",
       "            ...   \n",
       "1129.0    0.000488\n",
       "946.0     0.000488\n",
       "1236.0    0.000488\n",
       "2220.0    0.000488\n",
       "1247.0    0.000488\n",
       "Name: Total Bsmt SF, Length: 893, dtype: float64"
      ]
     },
     "execution_count": 91,
     "metadata": {},
     "output_type": "execute_result"
    }
   ],
   "source": [
    "train['Total Bsmt SF'].value_counts(normalize=True, dropna = False)"
   ]
  },
  {
   "cell_type": "code",
   "execution_count": 92,
   "id": "a2f0abdd",
   "metadata": {},
   "outputs": [
    {
     "data": {
      "text/plain": [
       "0.0       0.320332\n",
       "24.0      0.008289\n",
       "16.0      0.004876\n",
       "300.0     0.003413\n",
       "384.0     0.003413\n",
       "            ...   \n",
       "1030.0    0.000488\n",
       "881.0     0.000488\n",
       "536.0     0.000488\n",
       "932.0     0.000488\n",
       "1159.0    0.000488\n",
       "Name: BsmtFin SF 1, Length: 822, dtype: float64"
      ]
     },
     "execution_count": 92,
     "metadata": {},
     "output_type": "execute_result"
    }
   ],
   "source": [
    "train['BsmtFin SF 1'].value_counts(normalize=True, dropna = False)"
   ]
  },
  {
   "cell_type": "code",
   "execution_count": 93,
   "id": "bc32eb4c",
   "metadata": {},
   "outputs": [
    {
     "data": {
      "text/plain": [
       "0.0       0.879083\n",
       "294.0     0.002438\n",
       "539.0     0.001463\n",
       "72.0      0.001463\n",
       "180.0     0.001463\n",
       "            ...   \n",
       "232.0     0.000488\n",
       "1393.0    0.000488\n",
       "95.0      0.000488\n",
       "351.0     0.000488\n",
       "163.0     0.000488\n",
       "Name: BsmtFin SF 2, Length: 206, dtype: float64"
      ]
     },
     "execution_count": 93,
     "metadata": {},
     "output_type": "execute_result"
    }
   ],
   "source": [
    "train['BsmtFin SF 2'].value_counts(normalize=True, dropna = False)"
   ]
  },
  {
   "cell_type": "code",
   "execution_count": 94,
   "id": "48d61c9a",
   "metadata": {},
   "outputs": [
    {
     "data": {
      "text/plain": [
       "0.0       0.080449\n",
       "384.0     0.006826\n",
       "672.0     0.005363\n",
       "728.0     0.004876\n",
       "816.0     0.004388\n",
       "            ...   \n",
       "976.0     0.000488\n",
       "1066.0    0.000488\n",
       "2336.0    0.000488\n",
       "1324.0    0.000488\n",
       "1211.0    0.000488\n",
       "Name: Bsmt Unf SF, Length: 968, dtype: float64"
      ]
     },
     "execution_count": 94,
     "metadata": {},
     "output_type": "execute_result"
    }
   ],
   "source": [
    "train['Bsmt Unf SF'].value_counts(normalize=True, dropna = False)"
   ]
  },
  {
   "cell_type": "markdown",
   "id": "f81c8e4c",
   "metadata": {},
   "source": [
    "## Similar findings as Garage, the features that are supposed to have the NA value for no Basements are missing. Assume houses with missing values have no Basement. For the ordinal features, fill missing values with NA. For the continuous features, fill missing values with 0."
   ]
  },
  {
   "cell_type": "code",
   "execution_count": 95,
   "id": "fc085314",
   "metadata": {},
   "outputs": [],
   "source": [
    "train['Bsmt Exposure'].fillna('NA', inplace = True)\n",
    "train['BsmtFin Type 2'].fillna('NA', inplace = True)\n",
    "train['BsmtFin Type 1'].fillna('NA', inplace = True)\n",
    "train['Bsmt Qual'].fillna('NA', inplace = True)\n",
    "train['Bsmt Cond'].fillna('NA', inplace = True)"
   ]
  },
  {
   "cell_type": "code",
   "execution_count": 96,
   "id": "995bc6ce",
   "metadata": {},
   "outputs": [],
   "source": [
    "train['Bsmt Full Bath'].fillna(0, inplace = True)\n",
    "train['Bsmt Half Bath'].fillna(0, inplace = True)\n",
    "train['Total Bsmt SF'].fillna(0, inplace = True)\n",
    "train['BsmtFin SF 1'].fillna(0, inplace = True)\n",
    "train['BsmtFin SF 2'].fillna(0, inplace = True)\n",
    "train['Bsmt Unf SF'].fillna(0, inplace = True)"
   ]
  },
  {
   "cell_type": "markdown",
   "id": "c6864928",
   "metadata": {},
   "source": [
    "### Do the same for test dataset."
   ]
  },
  {
   "cell_type": "code",
   "execution_count": 97,
   "id": "4bb9ffb7",
   "metadata": {},
   "outputs": [],
   "source": [
    "test['Bsmt Exposure'].fillna('NA', inplace = True)\n",
    "test['BsmtFin Type 2'].fillna('NA', inplace = True)\n",
    "test['BsmtFin Type 1'].fillna('NA', inplace = True)\n",
    "test['Bsmt Qual'].fillna('NA', inplace = True)\n",
    "test['Bsmt Cond'].fillna('NA', inplace = True)"
   ]
  },
  {
   "cell_type": "code",
   "execution_count": 98,
   "id": "49615339",
   "metadata": {},
   "outputs": [],
   "source": [
    "test['Bsmt Full Bath'].fillna(0, inplace = True)\n",
    "test['Bsmt Half Bath'].fillna(0, inplace = True)\n",
    "test['Total Bsmt SF'].fillna(0, inplace = True)\n",
    "test['BsmtFin SF 1'].fillna(0, inplace = True)\n",
    "test['BsmtFin SF 2'].fillna(0, inplace = True)\n",
    "test['Bsmt Unf SF'].fillna(0, inplace = True)"
   ]
  },
  {
   "cell_type": "markdown",
   "id": "4e82b317",
   "metadata": {},
   "source": [
    "### Check for features with missing values again, only the Mason Veneer related features should be left."
   ]
  },
  {
   "cell_type": "code",
   "execution_count": 99,
   "id": "e145aa48",
   "metadata": {},
   "outputs": [
    {
     "data": {
      "text/html": [
       "<div>\n",
       "<style scoped>\n",
       "    .dataframe tbody tr th:only-of-type {\n",
       "        vertical-align: middle;\n",
       "    }\n",
       "\n",
       "    .dataframe tbody tr th {\n",
       "        vertical-align: top;\n",
       "    }\n",
       "\n",
       "    .dataframe thead th {\n",
       "        text-align: right;\n",
       "    }\n",
       "</style>\n",
       "<table border=\"1\" class=\"dataframe\">\n",
       "  <thead>\n",
       "    <tr style=\"text-align: right;\">\n",
       "      <th></th>\n",
       "      <th>Feature</th>\n",
       "      <th>No. of missing values</th>\n",
       "      <th>Percentage of missing values</th>\n",
       "    </tr>\n",
       "  </thead>\n",
       "  <tbody>\n",
       "    <tr>\n",
       "      <th>0</th>\n",
       "      <td>Mas Vnr Type</td>\n",
       "      <td>22</td>\n",
       "      <td>1.07</td>\n",
       "    </tr>\n",
       "    <tr>\n",
       "      <th>1</th>\n",
       "      <td>Mas Vnr Area</td>\n",
       "      <td>22</td>\n",
       "      <td>1.07</td>\n",
       "    </tr>\n",
       "  </tbody>\n",
       "</table>\n",
       "</div>"
      ],
      "text/plain": [
       "        Feature  No. of missing values  Percentage of missing values\n",
       "0  Mas Vnr Type                     22                          1.07\n",
       "1  Mas Vnr Area                     22                          1.07"
      ]
     },
     "execution_count": 99,
     "metadata": {},
     "output_type": "execute_result"
    }
   ],
   "source": [
    "missing_df = []\n",
    "for key, value in train.isnull().sum().sort_values(ascending=False).items():\n",
    "    if value != 0:\n",
    "        missing_row = []\n",
    "        missing_row.append(key)\n",
    "        missing_row.append(value)\n",
    "        percentage = round(value/train.shape[0]*100,2)\n",
    "        missing_row.append(percentage)\n",
    "        missing_df.append(missing_row)\n",
    "missing_df = pd.DataFrame(missing_df, columns = ['Feature', 'No. of missing values', 'Percentage of missing values'] )\n",
    "missing_df"
   ]
  },
  {
   "cell_type": "markdown",
   "id": "0c9fd311",
   "metadata": {},
   "source": [
    "### Only features related to the Masonry Veneer are left."
   ]
  },
  {
   "cell_type": "code",
   "execution_count": 100,
   "id": "631ccfb6",
   "metadata": {},
   "outputs": [
    {
     "data": {
      "text/plain": [
       "None       0.593857\n",
       "BrkFace    0.307167\n",
       "Stone      0.081911\n",
       "NaN        0.010726\n",
       "BrkCmn     0.006338\n",
       "Name: Mas Vnr Type, dtype: float64"
      ]
     },
     "execution_count": 100,
     "metadata": {},
     "output_type": "execute_result"
    }
   ],
   "source": [
    "train['Mas Vnr Type'].value_counts(normalize=True, dropna = False)"
   ]
  },
  {
   "cell_type": "code",
   "execution_count": 101,
   "id": "902d32fd",
   "metadata": {},
   "outputs": [
    {
     "data": {
      "text/plain": [
       "0.0      0.592882\n",
       "NaN      0.010726\n",
       "120.0    0.005363\n",
       "176.0    0.004876\n",
       "200.0    0.004876\n",
       "           ...   \n",
       "327.0    0.000488\n",
       "692.0    0.000488\n",
       "664.0    0.000488\n",
       "114.0    0.000488\n",
       "428.0    0.000488\n",
       "Name: Mas Vnr Area, Length: 374, dtype: float64"
      ]
     },
     "execution_count": 101,
     "metadata": {},
     "output_type": "execute_result"
    }
   ],
   "source": [
    "train['Mas Vnr Area'].value_counts(normalize=True, dropna = False)"
   ]
  },
  {
   "cell_type": "markdown",
   "id": "3b4d095b",
   "metadata": {},
   "source": [
    "### Seeing as 60% of houses have no Mason Veneer and only 1% of the values are missing, assume the missing values have no Mason Veneer. Hence, the missing values for the Mason Veneer Area will be 0."
   ]
  },
  {
   "cell_type": "code",
   "execution_count": 102,
   "id": "bd5c18d1",
   "metadata": {},
   "outputs": [],
   "source": [
    "train['Mas Vnr Type'].fillna('None', inplace = True)\n",
    "train['Mas Vnr Area'].fillna(0, inplace = True)"
   ]
  },
  {
   "cell_type": "markdown",
   "id": "3e13f436",
   "metadata": {},
   "source": [
    "### Do the same for the test dataset."
   ]
  },
  {
   "cell_type": "code",
   "execution_count": 103,
   "id": "d46c7acd",
   "metadata": {},
   "outputs": [],
   "source": [
    "test['Mas Vnr Type'].fillna('None', inplace = True)\n",
    "test['Mas Vnr Area'].fillna(0, inplace = True)"
   ]
  },
  {
   "cell_type": "markdown",
   "id": "1a7bb3c3",
   "metadata": {},
   "source": [
    "### Check that there are no more features with missing values."
   ]
  },
  {
   "cell_type": "code",
   "execution_count": 104,
   "id": "45a2d335",
   "metadata": {},
   "outputs": [
    {
     "data": {
      "text/html": [
       "<div>\n",
       "<style scoped>\n",
       "    .dataframe tbody tr th:only-of-type {\n",
       "        vertical-align: middle;\n",
       "    }\n",
       "\n",
       "    .dataframe tbody tr th {\n",
       "        vertical-align: top;\n",
       "    }\n",
       "\n",
       "    .dataframe thead th {\n",
       "        text-align: right;\n",
       "    }\n",
       "</style>\n",
       "<table border=\"1\" class=\"dataframe\">\n",
       "  <thead>\n",
       "    <tr style=\"text-align: right;\">\n",
       "      <th></th>\n",
       "      <th>Feature</th>\n",
       "      <th>No. of missing values</th>\n",
       "      <th>Percentage of missing values</th>\n",
       "    </tr>\n",
       "  </thead>\n",
       "  <tbody>\n",
       "  </tbody>\n",
       "</table>\n",
       "</div>"
      ],
      "text/plain": [
       "Empty DataFrame\n",
       "Columns: [Feature, No. of missing values, Percentage of missing values]\n",
       "Index: []"
      ]
     },
     "execution_count": 104,
     "metadata": {},
     "output_type": "execute_result"
    }
   ],
   "source": [
    "missing_df = []\n",
    "for key, value in train.isnull().sum().sort_values(ascending=False).items():\n",
    "    if value != 0:\n",
    "        missing_row = []\n",
    "        missing_row.append(key)\n",
    "        missing_row.append(value)\n",
    "        percentage = round(value/train.shape[0]*100,2)\n",
    "        missing_row.append(percentage)\n",
    "        missing_df.append(missing_row)\n",
    "missing_df = pd.DataFrame(missing_df, columns = ['Feature', 'No. of missing values', 'Percentage of missing values'] )\n",
    "missing_df"
   ]
  },
  {
   "cell_type": "markdown",
   "id": "0ee00087",
   "metadata": {},
   "source": [
    "## Converting ordinal features to numbers"
   ]
  },
  {
   "cell_type": "code",
   "execution_count": 105,
   "id": "28205373",
   "metadata": {},
   "outputs": [
    {
     "data": {
      "text/html": [
       "<div>\n",
       "<style scoped>\n",
       "    .dataframe tbody tr th:only-of-type {\n",
       "        vertical-align: middle;\n",
       "    }\n",
       "\n",
       "    .dataframe tbody tr th {\n",
       "        vertical-align: top;\n",
       "    }\n",
       "\n",
       "    .dataframe thead th {\n",
       "        text-align: right;\n",
       "    }\n",
       "</style>\n",
       "<table border=\"1\" class=\"dataframe\">\n",
       "  <thead>\n",
       "    <tr style=\"text-align: right;\">\n",
       "      <th></th>\n",
       "      <th>MS Zoning</th>\n",
       "      <th>Street</th>\n",
       "      <th>Lot Shape</th>\n",
       "      <th>Land Contour</th>\n",
       "      <th>Utilities</th>\n",
       "      <th>Lot Config</th>\n",
       "      <th>Land Slope</th>\n",
       "      <th>Neighborhood</th>\n",
       "      <th>Condition 1</th>\n",
       "      <th>Condition 2</th>\n",
       "      <th>...</th>\n",
       "      <th>Central Air</th>\n",
       "      <th>Electrical</th>\n",
       "      <th>Kitchen Qual</th>\n",
       "      <th>Functional</th>\n",
       "      <th>Garage Type</th>\n",
       "      <th>Garage Finish</th>\n",
       "      <th>Garage Qual</th>\n",
       "      <th>Garage Cond</th>\n",
       "      <th>Paved Drive</th>\n",
       "      <th>Sale Type</th>\n",
       "    </tr>\n",
       "  </thead>\n",
       "  <tbody>\n",
       "    <tr>\n",
       "      <th>0</th>\n",
       "      <td>RL</td>\n",
       "      <td>Pave</td>\n",
       "      <td>IR1</td>\n",
       "      <td>Lvl</td>\n",
       "      <td>AllPub</td>\n",
       "      <td>CulDSac</td>\n",
       "      <td>Gtl</td>\n",
       "      <td>Sawyer</td>\n",
       "      <td>RRAe</td>\n",
       "      <td>Norm</td>\n",
       "      <td>...</td>\n",
       "      <td>Y</td>\n",
       "      <td>SBrkr</td>\n",
       "      <td>Gd</td>\n",
       "      <td>Typ</td>\n",
       "      <td>Attchd</td>\n",
       "      <td>RFn</td>\n",
       "      <td>TA</td>\n",
       "      <td>TA</td>\n",
       "      <td>Y</td>\n",
       "      <td>WD</td>\n",
       "    </tr>\n",
       "    <tr>\n",
       "      <th>1</th>\n",
       "      <td>RL</td>\n",
       "      <td>Pave</td>\n",
       "      <td>IR1</td>\n",
       "      <td>Lvl</td>\n",
       "      <td>AllPub</td>\n",
       "      <td>CulDSac</td>\n",
       "      <td>Gtl</td>\n",
       "      <td>SawyerW</td>\n",
       "      <td>Norm</td>\n",
       "      <td>Norm</td>\n",
       "      <td>...</td>\n",
       "      <td>Y</td>\n",
       "      <td>SBrkr</td>\n",
       "      <td>Gd</td>\n",
       "      <td>Typ</td>\n",
       "      <td>Attchd</td>\n",
       "      <td>RFn</td>\n",
       "      <td>TA</td>\n",
       "      <td>TA</td>\n",
       "      <td>Y</td>\n",
       "      <td>WD</td>\n",
       "    </tr>\n",
       "    <tr>\n",
       "      <th>2</th>\n",
       "      <td>RL</td>\n",
       "      <td>Pave</td>\n",
       "      <td>Reg</td>\n",
       "      <td>Lvl</td>\n",
       "      <td>AllPub</td>\n",
       "      <td>Inside</td>\n",
       "      <td>Gtl</td>\n",
       "      <td>NAmes</td>\n",
       "      <td>Norm</td>\n",
       "      <td>Norm</td>\n",
       "      <td>...</td>\n",
       "      <td>Y</td>\n",
       "      <td>SBrkr</td>\n",
       "      <td>Gd</td>\n",
       "      <td>Typ</td>\n",
       "      <td>Detchd</td>\n",
       "      <td>Unf</td>\n",
       "      <td>TA</td>\n",
       "      <td>TA</td>\n",
       "      <td>Y</td>\n",
       "      <td>WD</td>\n",
       "    </tr>\n",
       "    <tr>\n",
       "      <th>3</th>\n",
       "      <td>RL</td>\n",
       "      <td>Pave</td>\n",
       "      <td>Reg</td>\n",
       "      <td>Lvl</td>\n",
       "      <td>AllPub</td>\n",
       "      <td>Inside</td>\n",
       "      <td>Gtl</td>\n",
       "      <td>Timber</td>\n",
       "      <td>Norm</td>\n",
       "      <td>Norm</td>\n",
       "      <td>...</td>\n",
       "      <td>Y</td>\n",
       "      <td>SBrkr</td>\n",
       "      <td>TA</td>\n",
       "      <td>Typ</td>\n",
       "      <td>BuiltIn</td>\n",
       "      <td>Fin</td>\n",
       "      <td>TA</td>\n",
       "      <td>TA</td>\n",
       "      <td>Y</td>\n",
       "      <td>WD</td>\n",
       "    </tr>\n",
       "    <tr>\n",
       "      <th>4</th>\n",
       "      <td>RL</td>\n",
       "      <td>Pave</td>\n",
       "      <td>IR1</td>\n",
       "      <td>Lvl</td>\n",
       "      <td>AllPub</td>\n",
       "      <td>Inside</td>\n",
       "      <td>Gtl</td>\n",
       "      <td>SawyerW</td>\n",
       "      <td>Norm</td>\n",
       "      <td>Norm</td>\n",
       "      <td>...</td>\n",
       "      <td>Y</td>\n",
       "      <td>SBrkr</td>\n",
       "      <td>TA</td>\n",
       "      <td>Typ</td>\n",
       "      <td>Detchd</td>\n",
       "      <td>Unf</td>\n",
       "      <td>TA</td>\n",
       "      <td>TA</td>\n",
       "      <td>N</td>\n",
       "      <td>WD</td>\n",
       "    </tr>\n",
       "  </tbody>\n",
       "</table>\n",
       "<p>5 rows × 37 columns</p>\n",
       "</div>"
      ],
      "text/plain": [
       "  MS Zoning Street Lot Shape Land Contour Utilities Lot Config Land Slope  \\\n",
       "0        RL   Pave       IR1          Lvl    AllPub    CulDSac        Gtl   \n",
       "1        RL   Pave       IR1          Lvl    AllPub    CulDSac        Gtl   \n",
       "2        RL   Pave       Reg          Lvl    AllPub     Inside        Gtl   \n",
       "3        RL   Pave       Reg          Lvl    AllPub     Inside        Gtl   \n",
       "4        RL   Pave       IR1          Lvl    AllPub     Inside        Gtl   \n",
       "\n",
       "  Neighborhood Condition 1 Condition 2  ... Central Air Electrical  \\\n",
       "0       Sawyer        RRAe        Norm  ...           Y      SBrkr   \n",
       "1      SawyerW        Norm        Norm  ...           Y      SBrkr   \n",
       "2        NAmes        Norm        Norm  ...           Y      SBrkr   \n",
       "3       Timber        Norm        Norm  ...           Y      SBrkr   \n",
       "4      SawyerW        Norm        Norm  ...           Y      SBrkr   \n",
       "\n",
       "  Kitchen Qual Functional Garage Type Garage Finish Garage Qual Garage Cond  \\\n",
       "0           Gd        Typ      Attchd           RFn          TA          TA   \n",
       "1           Gd        Typ      Attchd           RFn          TA          TA   \n",
       "2           Gd        Typ      Detchd           Unf          TA          TA   \n",
       "3           TA        Typ     BuiltIn           Fin          TA          TA   \n",
       "4           TA        Typ      Detchd           Unf          TA          TA   \n",
       "\n",
       "  Paved Drive Sale Type  \n",
       "0           Y       WD   \n",
       "1           Y       WD   \n",
       "2           Y       WD   \n",
       "3           Y       WD   \n",
       "4           N       WD   \n",
       "\n",
       "[5 rows x 37 columns]"
      ]
     },
     "execution_count": 105,
     "metadata": {},
     "output_type": "execute_result"
    }
   ],
   "source": [
    "non_numeric_train = train.select_dtypes(include = ['object'])\n",
    "non_numeric_train.head()"
   ]
  },
  {
   "cell_type": "code",
   "execution_count": 106,
   "id": "e81cdf28",
   "metadata": {},
   "outputs": [
    {
     "data": {
      "text/plain": [
       "Index(['MS Zoning', 'Street', 'Lot Shape', 'Land Contour', 'Utilities',\n",
       "       'Lot Config', 'Land Slope', 'Neighborhood', 'Condition 1',\n",
       "       'Condition 2', 'Bldg Type', 'House Style', 'Roof Style', 'Roof Matl',\n",
       "       'Exterior 1st', 'Exterior 2nd', 'Mas Vnr Type', 'Exter Qual',\n",
       "       'Exter Cond', 'Foundation', 'Bsmt Qual', 'Bsmt Cond', 'Bsmt Exposure',\n",
       "       'BsmtFin Type 1', 'BsmtFin Type 2', 'Heating', 'Heating QC',\n",
       "       'Central Air', 'Electrical', 'Kitchen Qual', 'Functional',\n",
       "       'Garage Type', 'Garage Finish', 'Garage Qual', 'Garage Cond',\n",
       "       'Paved Drive', 'Sale Type'],\n",
       "      dtype='object')"
      ]
     },
     "execution_count": 106,
     "metadata": {},
     "output_type": "execute_result"
    }
   ],
   "source": [
    "non_numeric_train.columns"
   ]
  },
  {
   "cell_type": "markdown",
   "id": "10b88544",
   "metadata": {},
   "source": [
    "### From the non-numeric features, identify the ordinal features based on the data dictionary and convert them to numbers"
   ]
  },
  {
   "cell_type": "code",
   "execution_count": 107,
   "id": "45362fb2",
   "metadata": {},
   "outputs": [],
   "source": [
    "train['Utilities'] = train['Utilities'].map({'ELO':0,'NoSeWa':1,'NoSewr':2,'AllPub':3})\n",
    "train['Land Slope'] = train['Land Slope'].map({'Sev':0,'Mod':1,'Gtl':2})\n",
    "train['Overall Qual'] = train['Overall Qual'].map({1:0,2:1,3:2,4:3,5:4,6:5,7:6,8:7,9:8,10:9})\n",
    "train['Overall Cond'] = train['Overall Cond'].map({1:0,2:1,3:2,4:3,5:4,6:5,7:6,8:7,9:8,10:9})\n",
    "train['Exter Qual'] = train['Exter Qual'].map({'Po':0, 'Fa':1, 'TA':2, 'Gd':3, 'Ex':4})\n",
    "train['Exter Cond'] = train['Exter Cond'].map({'Po':0, 'Fa':1, 'TA':2, 'Gd':3, 'Ex':4})\n",
    "train['Bsmt Qual'] = train['Bsmt Qual'].map({'NA':0,'Po':1, 'Fa':2, 'TA':3, 'Gd':4, 'Ex':5})\n",
    "train['Bsmt Cond'] = train['Bsmt Cond'].map({'NA':0,'Po':1, 'Fa':2, 'TA':3, 'Gd':4, 'Ex':5})\n",
    "train['Bsmt Exposure'] = train['Bsmt Exposure'].map({'NA':0,'No':1, 'Mn':2, 'Av':3, 'Gd':4})\n",
    "train['BsmtFin Type 1'] = train['BsmtFin Type 1'].map({'NA':0,'Unf':1, 'LwQ':2, 'Rec':3, 'BLQ':4, 'ALQ':5, 'GLQ':6})\n",
    "train['BsmtFin Type 2'] = train['BsmtFin Type 2'].map({'NA':0,'Unf':1, 'LwQ':2, 'Rec':3, 'BLQ':4, 'ALQ':5, 'GLQ':6})\n",
    "train['Heating QC'] = train['Heating QC'].map({'Po':0, 'Fa':1, 'TA':2, 'Gd':3, 'Ex':4})                  \n",
    "train['Kitchen Qual'] = train['Kitchen Qual'].map({'Po':0, 'Fa':1, 'TA':2, 'Gd':3, 'Ex':4})               \n",
    "train['Functional'] = train['Functional'].map({'Sal':0, 'Sev':1, 'Maj2':2, 'Maj1':3, 'Mod':4, 'Min2':5, 'Min1':6, 'Typ':7}) \n",
    "train['Garage Finish'] = train['Garage Finish'].map({'NA':0,'Unf':1, 'RFn':2, 'Fin':3})\n",
    "train['Garage Qual'] = train['Garage Qual'].map({'NA':0,'Po':1, 'Fa':2, 'TA':3, 'Gd':4, 'Ex':5}) \n",
    "train['Garage Cond'] = train['Garage Cond'].map({'NA':0,'Po':1, 'Fa':2, 'TA':3, 'Gd':4, 'Ex':5}) \n",
    "train['Paved Drive'] = train['Paved Drive'].map({'N':0,'P':1, 'Y':2})              \n"
   ]
  },
  {
   "cell_type": "markdown",
   "id": "c92e45df",
   "metadata": {},
   "source": [
    "### Do the same for test dataset."
   ]
  },
  {
   "cell_type": "code",
   "execution_count": 108,
   "id": "336e73f0",
   "metadata": {},
   "outputs": [],
   "source": [
    "test['Utilities'] = test['Utilities'].map({'ELO':0,'NoSeWa':1,'NoSewr':2,'AllPub':3})\n",
    "test['Land Slope'] = test['Land Slope'].map({'Sev':0,'Mod':1,'Gtl':2})\n",
    "test['Overall Qual'] = test['Overall Qual'].map({1:0,2:1,3:2,4:3,5:4,6:5,7:6,8:7,9:8,10:9})\n",
    "test['Overall Cond'] = test['Overall Cond'].map({1:0,2:1,3:2,4:3,5:4,6:5,7:6,8:7,9:8,10:9})\n",
    "test['Exter Qual'] = test['Exter Qual'].map({'Po':0, 'Fa':1, 'TA':2, 'Gd':3, 'Ex':4})\n",
    "test['Exter Cond'] = test['Exter Cond'].map({'Po':0, 'Fa':1, 'TA':2, 'Gd':3, 'Ex':4})\n",
    "test['Bsmt Qual'] = test['Bsmt Qual'].map({'NA':0,'Po':1, 'Fa':2, 'TA':3, 'Gd':4, 'Ex':5})\n",
    "test['Bsmt Cond'] = test['Bsmt Cond'].map({'NA':0,'Po':1, 'Fa':2, 'TA':3, 'Gd':4, 'Ex':5})\n",
    "test['Bsmt Exposure'] = test['Bsmt Exposure'].map({'NA':0,'No':1, 'Mn':2, 'Av':3, 'Gd':4})\n",
    "test['BsmtFin Type 1'] = test['BsmtFin Type 1'].map({'NA':0,'Unf':1, 'LwQ':2, 'Rec':3, 'BLQ':4, 'ALQ':5, 'GLQ':6})\n",
    "test['BsmtFin Type 2'] = test['BsmtFin Type 2'].map({'NA':0,'Unf':1, 'LwQ':2, 'Rec':3, 'BLQ':4, 'ALQ':5, 'GLQ':6})\n",
    "test['Heating QC'] = test['Heating QC'].map({'Po':0, 'Fa':1, 'TA':2, 'Gd':3, 'Ex':4})                  \n",
    "test['Kitchen Qual'] = test['Kitchen Qual'].map({'Po':0, 'Fa':1, 'TA':2, 'Gd':3, 'Ex':4})               \n",
    "test['Functional'] = test['Functional'].map({'Sal':0, 'Sev':1, 'Maj2':2, 'Maj1':3, 'Mod':4, 'Min2':5, 'Min1':6, 'Typ':7}) \n",
    "test['Garage Finish'] = test['Garage Finish'].map({'NA':0,'Unf':1, 'RFn':2, 'Fin':3})\n",
    "test['Garage Qual'] = test['Garage Qual'].map({'NA':0,'Po':1, 'Fa':2, 'TA':3, 'Gd':4, 'Ex':5}) \n",
    "test['Garage Cond'] = test['Garage Cond'].map({'NA':0,'Po':1, 'Fa':2, 'TA':3, 'Gd':4, 'Ex':5}) \n",
    "test['Paved Drive'] = test['Paved Drive'].map({'N':0,'P':1, 'Y':2})              \n"
   ]
  },
  {
   "cell_type": "markdown",
   "id": "c3ff278e",
   "metadata": {},
   "source": [
    "### In the data dictionary, there are 2 non-ordinal features where there are only 2 options. They are \"Street\" and \"Central Air\". For these 2 features, 1 option is clearly superior to the other. \n",
    "\n",
    "### For \"Street\", \"Paved\" is better than \"Gravel\". For \"Central Air\", having it is better than not having it.\n",
    "\n",
    "### Convert the values for these 2 features into numbers."
   ]
  },
  {
   "cell_type": "code",
   "execution_count": 109,
   "id": "ad665f4a",
   "metadata": {},
   "outputs": [],
   "source": [
    "#train['Street'] = train['Street'].map({'Grvl':0,'Pave':1}) \n",
    "#train['Central Air'] = train['Central Air'].map({'N':0,'Y':1}) "
   ]
  },
  {
   "cell_type": "markdown",
   "id": "b64bf556",
   "metadata": {},
   "source": [
    "### Do the same for test dataset."
   ]
  },
  {
   "cell_type": "code",
   "execution_count": 110,
   "id": "5ffef1c8",
   "metadata": {},
   "outputs": [],
   "source": [
    "#test['Street'] = test['Street'].map({'Grvl':0,'Pave':1}) \n",
    "#test['Central Air'] = test['Central Air'].map({'N':0,'Y':1}) "
   ]
  },
  {
   "cell_type": "markdown",
   "id": "f1d23044",
   "metadata": {},
   "source": [
    "### Check test dataset "
   ]
  },
  {
   "cell_type": "code",
   "execution_count": 111,
   "id": "154a9e75",
   "metadata": {},
   "outputs": [
    {
     "data": {
      "text/plain": [
       "Electrical        1\n",
       "Id                0\n",
       "Bsmt Half Bath    0\n",
       "TotRms AbvGrd     0\n",
       "Kitchen Qual      0\n",
       "                 ..\n",
       "Mas Vnr Type      0\n",
       "Exterior 2nd      0\n",
       "Exterior 1st      0\n",
       "Roof Matl         0\n",
       "Sale Type         0\n",
       "Length: 74, dtype: int64"
      ]
     },
     "execution_count": 111,
     "metadata": {},
     "output_type": "execute_result"
    }
   ],
   "source": [
    "test.isnull().sum().sort_values(ascending = False)"
   ]
  },
  {
   "cell_type": "code",
   "execution_count": 112,
   "id": "822b22f7",
   "metadata": {},
   "outputs": [
    {
     "data": {
      "text/plain": [
       "SBrkr    0.925968\n",
       "FuseA    0.054670\n",
       "FuseF    0.017084\n",
       "NaN      0.001139\n",
       "FuseP    0.001139\n",
       "Name: Electrical, dtype: float64"
      ]
     },
     "execution_count": 112,
     "metadata": {},
     "output_type": "execute_result"
    }
   ],
   "source": [
    "test['Electrical'].value_counts(normalize=True, dropna = False)"
   ]
  },
  {
   "cell_type": "markdown",
   "id": "be1dd153",
   "metadata": {},
   "source": [
    "### Fill the 1 missing 'Electrical' value with the most common value 'SBrkr'."
   ]
  },
  {
   "cell_type": "code",
   "execution_count": 113,
   "id": "2668ab7a",
   "metadata": {},
   "outputs": [],
   "source": [
    "test['Electrical'].fillna('SBrkr', inplace = True)"
   ]
  },
  {
   "cell_type": "code",
   "execution_count": 114,
   "id": "6fefb4a4",
   "metadata": {},
   "outputs": [
    {
     "data": {
      "text/plain": [
       "Id               0\n",
       "Fireplaces       0\n",
       "TotRms AbvGrd    0\n",
       "Kitchen Qual     0\n",
       "Kitchen AbvGr    0\n",
       "                ..\n",
       "Mas Vnr Type     0\n",
       "Exterior 2nd     0\n",
       "Exterior 1st     0\n",
       "Roof Matl        0\n",
       "Sale Type        0\n",
       "Length: 74, dtype: int64"
      ]
     },
     "execution_count": 114,
     "metadata": {},
     "output_type": "execute_result"
    }
   ],
   "source": [
    "test.isnull().sum().sort_values(ascending = False)"
   ]
  },
  {
   "cell_type": "markdown",
   "id": "fea1c4d4",
   "metadata": {},
   "source": [
    "### No more missing value in test dataset."
   ]
  },
  {
   "cell_type": "markdown",
   "id": "b6df1830",
   "metadata": {},
   "source": [
    "# Exploratory Data Analysis\n",
    "\n",
    "## Visualizing numeric data first"
   ]
  },
  {
   "cell_type": "code",
   "execution_count": 115,
   "id": "0c77a2e8",
   "metadata": {},
   "outputs": [
    {
     "data": {
      "text/html": [
       "<div>\n",
       "<style scoped>\n",
       "    .dataframe tbody tr th:only-of-type {\n",
       "        vertical-align: middle;\n",
       "    }\n",
       "\n",
       "    .dataframe tbody tr th {\n",
       "        vertical-align: top;\n",
       "    }\n",
       "\n",
       "    .dataframe thead th {\n",
       "        text-align: right;\n",
       "    }\n",
       "</style>\n",
       "<table border=\"1\" class=\"dataframe\">\n",
       "  <thead>\n",
       "    <tr style=\"text-align: right;\">\n",
       "      <th></th>\n",
       "      <th>Id</th>\n",
       "      <th>PID</th>\n",
       "      <th>MS SubClass</th>\n",
       "      <th>Lot Area</th>\n",
       "      <th>Utilities</th>\n",
       "      <th>Land Slope</th>\n",
       "      <th>Overall Qual</th>\n",
       "      <th>Overall Cond</th>\n",
       "      <th>Year Built</th>\n",
       "      <th>Year Remod/Add</th>\n",
       "      <th>...</th>\n",
       "      <th>Wood Deck SF</th>\n",
       "      <th>Open Porch SF</th>\n",
       "      <th>Enclosed Porch</th>\n",
       "      <th>3Ssn Porch</th>\n",
       "      <th>Screen Porch</th>\n",
       "      <th>Pool Area</th>\n",
       "      <th>Misc Val</th>\n",
       "      <th>Mo Sold</th>\n",
       "      <th>Yr Sold</th>\n",
       "      <th>SalePrice</th>\n",
       "    </tr>\n",
       "  </thead>\n",
       "  <tbody>\n",
       "    <tr>\n",
       "      <th>0</th>\n",
       "      <td>109</td>\n",
       "      <td>533352170</td>\n",
       "      <td>60</td>\n",
       "      <td>13517</td>\n",
       "      <td>3</td>\n",
       "      <td>2</td>\n",
       "      <td>5</td>\n",
       "      <td>7</td>\n",
       "      <td>1976</td>\n",
       "      <td>2005</td>\n",
       "      <td>...</td>\n",
       "      <td>0</td>\n",
       "      <td>44</td>\n",
       "      <td>0</td>\n",
       "      <td>0</td>\n",
       "      <td>0</td>\n",
       "      <td>0</td>\n",
       "      <td>0</td>\n",
       "      <td>3</td>\n",
       "      <td>2010</td>\n",
       "      <td>130500</td>\n",
       "    </tr>\n",
       "    <tr>\n",
       "      <th>1</th>\n",
       "      <td>544</td>\n",
       "      <td>531379050</td>\n",
       "      <td>60</td>\n",
       "      <td>11492</td>\n",
       "      <td>3</td>\n",
       "      <td>2</td>\n",
       "      <td>6</td>\n",
       "      <td>4</td>\n",
       "      <td>1996</td>\n",
       "      <td>1997</td>\n",
       "      <td>...</td>\n",
       "      <td>0</td>\n",
       "      <td>74</td>\n",
       "      <td>0</td>\n",
       "      <td>0</td>\n",
       "      <td>0</td>\n",
       "      <td>0</td>\n",
       "      <td>0</td>\n",
       "      <td>4</td>\n",
       "      <td>2009</td>\n",
       "      <td>220000</td>\n",
       "    </tr>\n",
       "    <tr>\n",
       "      <th>2</th>\n",
       "      <td>153</td>\n",
       "      <td>535304180</td>\n",
       "      <td>20</td>\n",
       "      <td>7922</td>\n",
       "      <td>3</td>\n",
       "      <td>2</td>\n",
       "      <td>4</td>\n",
       "      <td>6</td>\n",
       "      <td>1953</td>\n",
       "      <td>2007</td>\n",
       "      <td>...</td>\n",
       "      <td>0</td>\n",
       "      <td>52</td>\n",
       "      <td>0</td>\n",
       "      <td>0</td>\n",
       "      <td>0</td>\n",
       "      <td>0</td>\n",
       "      <td>0</td>\n",
       "      <td>1</td>\n",
       "      <td>2010</td>\n",
       "      <td>109000</td>\n",
       "    </tr>\n",
       "    <tr>\n",
       "      <th>3</th>\n",
       "      <td>318</td>\n",
       "      <td>916386060</td>\n",
       "      <td>60</td>\n",
       "      <td>9802</td>\n",
       "      <td>3</td>\n",
       "      <td>2</td>\n",
       "      <td>4</td>\n",
       "      <td>4</td>\n",
       "      <td>2006</td>\n",
       "      <td>2007</td>\n",
       "      <td>...</td>\n",
       "      <td>100</td>\n",
       "      <td>0</td>\n",
       "      <td>0</td>\n",
       "      <td>0</td>\n",
       "      <td>0</td>\n",
       "      <td>0</td>\n",
       "      <td>0</td>\n",
       "      <td>4</td>\n",
       "      <td>2010</td>\n",
       "      <td>174000</td>\n",
       "    </tr>\n",
       "    <tr>\n",
       "      <th>4</th>\n",
       "      <td>255</td>\n",
       "      <td>906425045</td>\n",
       "      <td>50</td>\n",
       "      <td>14235</td>\n",
       "      <td>3</td>\n",
       "      <td>2</td>\n",
       "      <td>5</td>\n",
       "      <td>7</td>\n",
       "      <td>1900</td>\n",
       "      <td>1993</td>\n",
       "      <td>...</td>\n",
       "      <td>0</td>\n",
       "      <td>59</td>\n",
       "      <td>0</td>\n",
       "      <td>0</td>\n",
       "      <td>0</td>\n",
       "      <td>0</td>\n",
       "      <td>0</td>\n",
       "      <td>3</td>\n",
       "      <td>2010</td>\n",
       "      <td>138500</td>\n",
       "    </tr>\n",
       "  </tbody>\n",
       "</table>\n",
       "<p>5 rows × 54 columns</p>\n",
       "</div>"
      ],
      "text/plain": [
       "    Id        PID  MS SubClass  Lot Area  Utilities  Land Slope  Overall Qual  \\\n",
       "0  109  533352170           60     13517          3           2             5   \n",
       "1  544  531379050           60     11492          3           2             6   \n",
       "2  153  535304180           20      7922          3           2             4   \n",
       "3  318  916386060           60      9802          3           2             4   \n",
       "4  255  906425045           50     14235          3           2             5   \n",
       "\n",
       "   Overall Cond  Year Built  Year Remod/Add  ...  Wood Deck SF  Open Porch SF  \\\n",
       "0             7        1976            2005  ...             0             44   \n",
       "1             4        1996            1997  ...             0             74   \n",
       "2             6        1953            2007  ...             0             52   \n",
       "3             4        2006            2007  ...           100              0   \n",
       "4             7        1900            1993  ...             0             59   \n",
       "\n",
       "   Enclosed Porch  3Ssn Porch  Screen Porch  Pool Area  Misc Val  Mo Sold  \\\n",
       "0               0           0             0          0         0        3   \n",
       "1               0           0             0          0         0        4   \n",
       "2               0           0             0          0         0        1   \n",
       "3               0           0             0          0         0        4   \n",
       "4               0           0             0          0         0        3   \n",
       "\n",
       "   Yr Sold  SalePrice  \n",
       "0     2010     130500  \n",
       "1     2009     220000  \n",
       "2     2010     109000  \n",
       "3     2010     174000  \n",
       "4     2010     138500  \n",
       "\n",
       "[5 rows x 54 columns]"
      ]
     },
     "execution_count": 115,
     "metadata": {},
     "output_type": "execute_result"
    }
   ],
   "source": [
    "train_numeric = train._get_numeric_data()\n",
    "train_numeric.head()"
   ]
  },
  {
   "cell_type": "code",
   "execution_count": null,
   "id": "3a4bf886",
   "metadata": {},
   "outputs": [],
   "source": [
    "plt.figure(figsize = (20,20))\n",
    "corr = train_numeric.corr()\n",
    "mask = np.zeros_like(corr)\n",
    "mask[np.triu_indices_from(mask)] = True\n",
    "with sns.axes_style('white'):\n",
    "    sns.heatmap(corr, mask = mask, square = True, annot = True, vmin = -1, vmax = 1, linewidth = .5, cmap = 'coolwarm')"
   ]
  },
  {
   "cell_type": "code",
   "execution_count": null,
   "id": "10aaa044",
   "metadata": {},
   "outputs": [],
   "source": [
    "p_val = train_numeric.corr()['SalePrice'].sort_values(ascending = False)\n",
    "p_val_high = p_val[(p_val >= 0.5) & (p_val < 1)]\n",
    "p_val_high.to_frame()"
   ]
  },
  {
   "cell_type": "markdown",
   "id": "4ebdd46e",
   "metadata": {},
   "source": [
    "### Sale Price has significant correlation with the above features.\n",
    "\n",
    "### Check collinearity between features. Define high collinearity as 70% and above."
   ]
  },
  {
   "cell_type": "code",
   "execution_count": null,
   "id": "538a14b4",
   "metadata": {},
   "outputs": [],
   "source": [
    "for column in train_numeric.columns:\n",
    "    if column != 'SalePrice':\n",
    "        p_val = train_numeric.corr()[column].sort_values(ascending = False)\n",
    "        p_val_high = p_val[(p_val >= 0.7) & (p_val < 1)]\n",
    "        if p_val_high.empty == False:\n",
    "            print ('------------------------------------\\n')\n",
    "            print (p_val_high.to_frame())\n",
    "\n"
   ]
  },
  {
   "cell_type": "markdown",
   "id": "15be9c54",
   "metadata": {},
   "source": [
    "### From the groups of features that have high correlation with each other, eliminate features until 1 is left in each group:\n",
    "1. Exter Qual and Overall Qual\n",
    "    1. Remove Exter Qual as Overall Qual has a wider spread of values\n",
    "1. BsmtFin Type 2 and BsmtFin SF 2\n",
    "    1. Remove BsmtFin Type 2 as BsmtFin SF 2 has a wider spread of values\n",
    "2. Total Bsmt SF and 1st Flr SF\n",
    "    1. Remove Total Bsmt SF as not all houses have a basement but all houses have a 1st floor\n",
    "3. TotRms AbvGrd and Gr Liv Area\n",
    "    1. Remove TotRms AbvGrd as Gr Liv Area has a wider spread of values\n",
    "4. Garage Area and Garage Cars\n",
    "    1. Remove Garage Cars as Garage Area has a wider spread of values\n",
    "5. Garage Yr Blt, Garage Cond and Garage Qual\n",
    "    1. Remove Garage Yr Blt as it is a feature that is not actionable\n",
    "    2. Remove Garage Cond as it has a higher correlation to Garage Yr Blt than Garage Qual"
   ]
  },
  {
   "cell_type": "code",
   "execution_count": null,
   "id": "bf2a3efc",
   "metadata": {},
   "outputs": [],
   "source": [
    "#train = train.drop(columns = ['Exter Qual', 'BsmtFin Type 2', 'Total Bsmt SF','Garage Yr Blt', 'Garage Cond','TotRms AbvGrd','Garage Cars'])\n",
    "#test = test.drop(columns = ['Exter Qual', 'BsmtFin Type 2', 'Total Bsmt SF','Garage Yr Blt', 'Garage Cond','TotRms AbvGrd','Garage Cars'])"
   ]
  },
  {
   "cell_type": "markdown",
   "id": "a290a3ed",
   "metadata": {},
   "source": [
    "## Remove outliers\n",
    "\n",
    "### Check the distribution of SalePrice to determine the method to use for outlier removal"
   ]
  },
  {
   "cell_type": "code",
   "execution_count": null,
   "id": "71d789c1",
   "metadata": {},
   "outputs": [],
   "source": [
    "train['SalePrice'].describe()"
   ]
  },
  {
   "cell_type": "code",
   "execution_count": null,
   "id": "ec3d53cf",
   "metadata": {},
   "outputs": [],
   "source": [
    "plt.hist(train['SalePrice'])\n",
    "plt.title('Train Dataset Sale Price Distribution')\n",
    "plt.xlabel('USD')\n",
    "plt.ylabel('Number of Houses')"
   ]
  },
  {
   "cell_type": "markdown",
   "id": "8a6d5be8",
   "metadata": {},
   "source": [
    "### Sale Price is skewed and not normally distributed. Use the IQR method to identify and remove outliers."
   ]
  },
  {
   "cell_type": "markdown",
   "id": "dbbf2c55",
   "metadata": {},
   "source": [
    "train_iqr = sp.stats.iqr(train['SalePrice'])\n",
    "train = train[(train['SalePrice'] >= (train['SalePrice'].quantile(q=0.25) - train_iqr*1.5)) & (train['SalePrice'] <= (train['SalePrice'].quantile(q=0.75) + train_iqr*1.5))]\n",
    "train.shape"
   ]
  },
  {
   "cell_type": "markdown",
   "id": "a93cf442",
   "metadata": {},
   "source": [
    "### Select only the features with continuous values to check for outliers."
   ]
  },
  {
   "cell_type": "code",
   "execution_count": null,
   "id": "a7cac51f",
   "metadata": {},
   "outputs": [],
   "source": [
    "outlier_columns = train[['SalePrice', 'Lot Area', 'Mas Vnr Area', 'BsmtFin SF 1', 'BsmtFin SF 2', 'Bsmt Unf SF', '1st Flr SF', '2nd Flr SF', 'Low Qual Fin SF', 'Gr Liv Area', 'Garage Area', 'Wood Deck SF', 'Open Porch SF', 'Enclosed Porch', '3Ssn Porch', 'Screen Porch', 'Pool Area', 'Misc Val']]"
   ]
  },
  {
   "cell_type": "code",
   "execution_count": null,
   "id": "de54ba57",
   "metadata": {},
   "outputs": [],
   "source": [
    "plt.figure(figsize = (10,60)) \n",
    "position = 1\n",
    "for column in outlier_columns.columns:\n",
    "    plt.subplot(18,1,position)\n",
    "    sns.histplot(data = train[column])\n",
    "    position += 1\n",
    "plt.show()"
   ]
  },
  {
   "cell_type": "code",
   "execution_count": null,
   "id": "fcd79bf2",
   "metadata": {},
   "outputs": [],
   "source": [
    "train['SalePrice'] = train['SalePrice'].apply(np.log1p)\n",
    "train['Lot Area'] = train['Lot Area'].apply(np.log1p)\n",
    "\n",
    "train.head()"
   ]
  },
  {
   "cell_type": "markdown",
   "id": "1914c2c7",
   "metadata": {},
   "source": [
    "### Do the same for test dataset."
   ]
  },
  {
   "cell_type": "code",
   "execution_count": null,
   "id": "04cff5f6",
   "metadata": {},
   "outputs": [],
   "source": [
    "test['Lot Area'] = test['Lot Area'].apply(np.log1p)\n",
    "\n",
    "test.head()"
   ]
  },
  {
   "cell_type": "code",
   "execution_count": null,
   "id": "00874fae",
   "metadata": {},
   "outputs": [],
   "source": [
    "plt.figure(figsize = (10,60)) \n",
    "position = 1\n",
    "for column in outlier_columns.columns:\n",
    "    plt.subplot(18,1,position)\n",
    "    sns.scatterplot(x = column, y = 'SalePrice', data = train)\n",
    "    position += 1\n",
    "plt.show()\n"
   ]
  },
  {
   "cell_type": "code",
   "execution_count": null,
   "id": "edcce10f",
   "metadata": {},
   "outputs": [],
   "source": [
    "train = train[train['SalePrice'] > 10.5]\n",
    "train = train[train['Lot Area'] < 11]\n",
    "train = train[train['Mas Vnr Area'] < 1000]\n",
    "train = train[train['BsmtFin SF 1'] < 2000]\n",
    "train = train[train['BsmtFin SF 2'] < 1200]\n",
    "train = train[train['Bsmt Unf SF'] < 2000]\n",
    "train = train[train['1st Flr SF'] < 3000]\n",
    "train = train[train['2nd Flr SF'] < 1500]\n",
    "train = train[train['Gr Liv Area'] < 4000]\n",
    "train = train[train['Garage Area'] < 1000]\n",
    "train = train[train['Wood Deck SF'] < 600]\n",
    "train = train[train['Open Porch SF'] < 400]\n",
    "train = train[train['Enclosed Porch'] < 300]\n",
    "train = train[train['Screen Porch'] < 300]"
   ]
  },
  {
   "cell_type": "code",
   "execution_count": null,
   "id": "c7b13c9f",
   "metadata": {},
   "outputs": [],
   "source": [
    "plt.figure(figsize = (10,60)) \n",
    "position = 1\n",
    "for column in outlier_columns.columns:\n",
    "    plt.subplot(18,1,position)\n",
    "    sns.scatterplot(x = column, y = 'SalePrice', data = train)\n",
    "    position += 1\n",
    "plt.show()"
   ]
  },
  {
   "cell_type": "code",
   "execution_count": null,
   "id": "6a8ae81f",
   "metadata": {},
   "outputs": [],
   "source": []
  },
  {
   "cell_type": "markdown",
   "id": "368f9865",
   "metadata": {},
   "source": [
    "### Next, visualize categorical features using Box Plots."
   ]
  },
  {
   "cell_type": "code",
   "execution_count": null,
   "id": "a2e341d8",
   "metadata": {},
   "outputs": [],
   "source": [
    "train_cat = train.select_dtypes(include = ['object'])\n",
    "train_cat.columns"
   ]
  },
  {
   "cell_type": "code",
   "execution_count": null,
   "id": "6520cb33",
   "metadata": {},
   "outputs": [],
   "source": [
    "plt.figure(figsize = (30,60)) \n",
    "position = 1\n",
    "for column in train_cat.columns:\n",
    "    plt.subplot(12,2,position)\n",
    "    sns.boxplot(x = column, y = 'SalePrice', data = train)\n",
    "    position += 1\n",
    "plt.show()"
   ]
  },
  {
   "cell_type": "markdown",
   "id": "e09e1aad",
   "metadata": {},
   "source": [
    "## Convert Categorical values into numbers using One-hot Encoding"
   ]
  },
  {
   "cell_type": "code",
   "execution_count": null,
   "id": "4d619186",
   "metadata": {},
   "outputs": [],
   "source": [
    "train = pd.get_dummies(data=train,columns=train_cat.columns,drop_first=True)"
   ]
  },
  {
   "cell_type": "markdown",
   "id": "4d9d67fa",
   "metadata": {},
   "source": [
    "## Do the same for test dataset."
   ]
  },
  {
   "cell_type": "code",
   "execution_count": null,
   "id": "e02cc589",
   "metadata": {},
   "outputs": [],
   "source": [
    "test = pd.get_dummies(data=test,columns=train_cat.columns,drop_first=True)"
   ]
  },
  {
   "cell_type": "code",
   "execution_count": null,
   "id": "0ff4667d",
   "metadata": {},
   "outputs": [],
   "source": [
    "train.shape"
   ]
  },
  {
   "cell_type": "code",
   "execution_count": null,
   "id": "a7fe988e",
   "metadata": {},
   "outputs": [],
   "source": [
    "test.shape"
   ]
  },
  {
   "cell_type": "markdown",
   "id": "62e98032",
   "metadata": {},
   "source": [
    "### The get dummies method creates a new column for each unique value in the chosen columns. As the train and test datasets have different unique values in the chosen columns, the resulting number of columns for each dataset is different. To facilitate the training and testing of the data models in the following steps, other than SalePrice, the train and test datasets must have the same columns."
   ]
  },
  {
   "cell_type": "code",
   "execution_count": null,
   "id": "d931124e",
   "metadata": {},
   "outputs": [],
   "source": [
    "missing_columns_test = []\n",
    "for column in train.columns:\n",
    "    if column not in test.columns:\n",
    "        if column != 'SalePrice':\n",
    "            missing_columns_test.append(column)\n",
    "missing_columns_test"
   ]
  },
  {
   "cell_type": "markdown",
   "id": "538b8d98",
   "metadata": {},
   "source": [
    "### Excluding SalePrice, the list above shows all the columns that are in the train dataset but not the test dataset. These columns should be added to the test dataset with values as 0."
   ]
  },
  {
   "cell_type": "code",
   "execution_count": null,
   "id": "a21bd802",
   "metadata": {},
   "outputs": [],
   "source": [
    "for column in missing_columns_test:\n",
    "    test[column] = 0\n",
    "test.shape"
   ]
  },
  {
   "cell_type": "markdown",
   "id": "cee4abb8",
   "metadata": {},
   "source": [
    "### Check for the reverse. Add columns that are in the test dataset and not the train dataset. Add these columns to the train dataset."
   ]
  },
  {
   "cell_type": "code",
   "execution_count": null,
   "id": "84867c37",
   "metadata": {},
   "outputs": [],
   "source": [
    "missing_columns_train = []\n",
    "for column in test.columns:\n",
    "    if column not in train.columns:\n",
    "        missing_columns_train.append(column)\n",
    "missing_columns_train"
   ]
  },
  {
   "cell_type": "code",
   "execution_count": null,
   "id": "72ca3a83",
   "metadata": {},
   "outputs": [],
   "source": [
    "for column in missing_columns_train:\n",
    "    train[column] = 0\n",
    "train.shape"
   ]
  },
  {
   "cell_type": "markdown",
   "id": "e9416fe0",
   "metadata": {},
   "source": [
    "### Except SalePrice, both train and test datasets now have the same columns."
   ]
  },
  {
   "cell_type": "markdown",
   "id": "bcab907e",
   "metadata": {},
   "source": [
    "# Data Modeling"
   ]
  },
  {
   "cell_type": "code",
   "execution_count": null,
   "id": "ca6899a8",
   "metadata": {},
   "outputs": [],
   "source": [
    "X = train.drop(columns = 'SalePrice')\n",
    "y = train['SalePrice']\n",
    "ss = StandardScaler()\n",
    "X_ss = ss.fit_transform(X)"
   ]
  },
  {
   "cell_type": "markdown",
   "id": "de3f0625",
   "metadata": {},
   "source": [
    "### Linear Regression"
   ]
  },
  {
   "cell_type": "code",
   "execution_count": null,
   "id": "7cfe6933",
   "metadata": {},
   "outputs": [],
   "source": [
    "lr = LinearRegression()\n",
    "lr_scores = cross_val_score(lr, X_ss, y, cv=5)\n",
    "print(lr_scores)\n",
    "print(lr_scores.mean())"
   ]
  },
  {
   "cell_type": "markdown",
   "id": "df395c86",
   "metadata": {},
   "source": [
    "### Linear Regression model for this dataset has resulted in a negative R2 score. The model is inaccurate."
   ]
  },
  {
   "cell_type": "markdown",
   "id": "53e7db07",
   "metadata": {},
   "source": [
    "### Try a Ridge model instead."
   ]
  },
  {
   "cell_type": "code",
   "execution_count": null,
   "id": "74a929d7",
   "metadata": {},
   "outputs": [],
   "source": [
    "ridge_alphas = np.logspace(0, 5, 200)\n",
    "\n",
    "optimal_ridge = RidgeCV(alphas=ridge_alphas, cv=5)\n",
    "optimal_ridge.fit(X_ss, y)\n",
    "\n",
    "print (optimal_ridge.alpha_)"
   ]
  },
  {
   "cell_type": "code",
   "execution_count": null,
   "id": "76737a3d",
   "metadata": {},
   "outputs": [],
   "source": [
    "ridge = Ridge(alpha=optimal_ridge.alpha_)\n",
    "\n",
    "ridge_scores = cross_val_score(ridge, X_ss, y, cv=5)\n",
    "\n",
    "print(ridge_scores)\n",
    "print(ridge_scores.mean())"
   ]
  },
  {
   "cell_type": "markdown",
   "id": "04e1981d",
   "metadata": {},
   "source": [
    "### Ridge model is performing quite well with a R2 score of 0.926.\n",
    "\n",
    "### Try a Lasso model next."
   ]
  },
  {
   "cell_type": "code",
   "execution_count": null,
   "id": "70279ea0",
   "metadata": {},
   "outputs": [],
   "source": [
    "optimal_lasso = LassoCV(n_alphas=500, cv=5, verbose=1)\n",
    "optimal_lasso.fit(X_ss, y)\n",
    "\n",
    "print (optimal_lasso.alpha_)"
   ]
  },
  {
   "cell_type": "code",
   "execution_count": null,
   "id": "c944eb18",
   "metadata": {},
   "outputs": [],
   "source": [
    "lasso = Lasso(alpha=optimal_lasso.alpha_)\n",
    "\n",
    "lasso_scores = cross_val_score(lasso, X_ss, y, cv=5)\n",
    "\n",
    "print(lasso_scores)\n",
    "print(lasso_scores.mean())"
   ]
  },
  {
   "cell_type": "markdown",
   "id": "ba44ba5d",
   "metadata": {},
   "source": [
    "### Lasso is the best performing model so far with a R2 score of 0.928, followed closely by Ridge. Linear Regression is inaccurate.\n",
    "### Try ElasticNet model next."
   ]
  },
  {
   "cell_type": "code",
   "execution_count": null,
   "id": "5a750725",
   "metadata": {},
   "outputs": [],
   "source": [
    "l1_ratios = np.linspace(0.01, 1.0, 25)\n",
    "\n",
    "optimal_enet = ElasticNetCV(l1_ratio=l1_ratios, n_alphas=100, cv=5,\n",
    "                            verbose=1)\n",
    "optimal_enet.fit(X_ss, y)\n",
    "\n",
    "print (optimal_enet.alpha_)\n",
    "print (optimal_enet.l1_ratio_)"
   ]
  },
  {
   "cell_type": "code",
   "execution_count": null,
   "id": "d99b02b2",
   "metadata": {},
   "outputs": [],
   "source": [
    "enet = ElasticNet(alpha=optimal_enet.alpha_, l1_ratio=optimal_enet.l1_ratio_)\n",
    "\n",
    "enet_scores = cross_val_score(enet, X_ss, y, cv=5)\n",
    "\n",
    "print (enet_scores)\n",
    "print (np.mean(enet_scores))"
   ]
  },
  {
   "cell_type": "markdown",
   "id": "0264567d",
   "metadata": {},
   "source": [
    "### With the optimal l1 ratio as 1, ElasticNet confirms that rather than a mixture between Ridge and Lasso, a full Lasso model performs better.\n",
    "\n",
    "### Check Lasso's coefficients to find important features."
   ]
  },
  {
   "cell_type": "code",
   "execution_count": null,
   "id": "3331b83f",
   "metadata": {},
   "outputs": [],
   "source": [
    "lasso.fit(X_ss, y)\n",
    "lasso_coefs = pd.DataFrame({'variable':X.columns,\n",
    "                            'coef':lasso.coef_,\n",
    "                            'abs_coef':np.abs(lasso.coef_)})\n",
    "\n",
    "lasso_coefs.sort_values('abs_coef', inplace=True, ascending=False)\n",
    "\n",
    "lasso_coefs.head(20)"
   ]
  },
  {
   "cell_type": "markdown",
   "id": "771fe909",
   "metadata": {},
   "source": [
    "### Gr Liv Area is the most important feature, followed by Overall Qual."
   ]
  },
  {
   "cell_type": "code",
   "execution_count": null,
   "id": "551ef75a",
   "metadata": {},
   "outputs": [],
   "source": [
    "print ('Percent variables zeroed out:', np.sum((lasso.coef_ == 0))/float(X_ss.shape[1]))"
   ]
  },
  {
   "cell_type": "markdown",
   "id": "2e2a1395",
   "metadata": {},
   "source": [
    "### More than 33% of the features were zero'd out by the Lasso model."
   ]
  },
  {
   "cell_type": "markdown",
   "id": "0d22f961",
   "metadata": {},
   "source": [
    "## Submission to Kaggle\n",
    "\n",
    "### Train the best performing model (Lasso) using the entire train dataset."
   ]
  },
  {
   "cell_type": "code",
   "execution_count": null,
   "id": "dd2fb7d2",
   "metadata": {},
   "outputs": [],
   "source": [
    "lasso = Lasso(alpha=optimal_lasso.alpha_)\n",
    "lasso = lasso.fit(X_ss, y)\n",
    "test_ss = ss.transform(test)\n",
    "lasso_preds = lasso.predict(test_ss)\n",
    "lasso_preds = np.exp(lasso_preds)\n",
    "preds = list(zip(test['Id'],lasso_preds))\n",
    "preds_df = pd.DataFrame(preds, columns = ['Id', 'SalePrice'] )\n",
    "preds_df.head()"
   ]
  },
  {
   "cell_type": "markdown",
   "id": "d9df0e98",
   "metadata": {},
   "source": [
    "### Export predictions to csv file for submission"
   ]
  },
  {
   "cell_type": "code",
   "execution_count": null,
   "id": "b866d4a4",
   "metadata": {},
   "outputs": [],
   "source": [
    "preds_df.to_csv('project_2_submission.csv', index = False)"
   ]
  },
  {
   "cell_type": "code",
   "execution_count": null,
   "id": "d3ad7049",
   "metadata": {},
   "outputs": [],
   "source": [
    "\n",
    "    "
   ]
  },
  {
   "cell_type": "code",
   "execution_count": null,
   "id": "ec26eff3",
   "metadata": {},
   "outputs": [],
   "source": []
  },
  {
   "cell_type": "code",
   "execution_count": null,
   "id": "f8c6e682",
   "metadata": {},
   "outputs": [],
   "source": []
  },
  {
   "cell_type": "code",
   "execution_count": null,
   "id": "cf6a7d77",
   "metadata": {},
   "outputs": [],
   "source": []
  }
 ],
 "metadata": {
  "kernelspec": {
   "display_name": "Python 3",
   "language": "python",
   "name": "python3"
  },
  "language_info": {
   "codemirror_mode": {
    "name": "ipython",
    "version": 3
   },
   "file_extension": ".py",
   "mimetype": "text/x-python",
   "name": "python",
   "nbconvert_exporter": "python",
   "pygments_lexer": "ipython3",
   "version": "3.8.8"
  }
 },
 "nbformat": 4,
 "nbformat_minor": 5
}
